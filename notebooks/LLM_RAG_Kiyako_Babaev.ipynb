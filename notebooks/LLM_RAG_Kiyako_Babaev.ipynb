{
  "cells": [
    {
      "cell_type": "markdown",
      "metadata": {
        "id": "j22SuuTnrrzV"
      },
      "source": [
        "# LLM и RAG\n",
        "\n",
        "# Кияко Елизавета и Фуад Бабаев\n",
        "\n",
        "В этом проекте мы делаем чат-бота-врача, используя технику RAG (Retrieval-Augmented-Generation) и фреймворки huggingface и LangChain"
      ]
    },
    {
      "cell_type": "markdown",
      "metadata": {
        "id": "dcUcbUz9EW2p"
      },
      "source": [
        "Устанавливаем необходимые библиотеки"
      ]
    },
    {
      "cell_type": "code",
      "execution_count": 14,
      "metadata": {
        "id": "nIru9yR7rOw7"
      },
      "outputs": [],
      "source": [
        "!pip install datasets langchain_community langchain_chroma langchain langchain_core tiktoken sentence-transformers==2.2.2 lark InstructorEmbedding bitsandbytes accelerate >> /dev/null"
      ]
    },
    {
      "cell_type": "markdown",
      "metadata": {
        "id": "htF9qbO2sYXV"
      },
      "source": [
        "Загрузим датасет medal https://huggingface.co/datasets/bigbio/medal"
      ]
    },
    {
      "cell_type": "markdown",
      "metadata": {
        "id": "yENIjCHP-XPz"
      },
      "source": [
        "### Загрузим данные MEDAL\n",
        "Данные содержат медицинские статьи для различных клинических диагнозов\n",
        "\n",
        "https://github.com/McGill-NLP/medal\n",
        "\n",
        "\n",
        "Нас интересуют колонки TEXT и LABEL\n"
      ]
    },
    {
      "cell_type": "code",
      "execution_count": 2,
      "metadata": {
        "colab": {
          "base_uri": "https://localhost:8080/"
        },
        "id": "w7HP_Ce9mDqf",
        "outputId": "c7aceaa5-ddd5-4458-9c9b-e44d0fbba9e3"
      },
      "outputs": [
        {
          "name": "stdout",
          "output_type": "stream",
          "text": [
            "--2024-12-21 06:57:58--  https://zenodo.org/record/4482922/files/train.csv\n",
            "Resolving zenodo.org (zenodo.org)... 188.185.48.194, 188.185.45.92, 188.185.43.25, ...\n",
            "Connecting to zenodo.org (zenodo.org)|188.185.48.194|:443... connected.\n",
            "HTTP request sent, awaiting response... 301 MOVED PERMANENTLY\n",
            "Location: /records/4482922/files/train.csv [following]\n",
            "--2024-12-21 06:57:59--  https://zenodo.org/records/4482922/files/train.csv\n",
            "Reusing existing connection to zenodo.org:443.\n",
            "HTTP request sent, awaiting response... 200 OK\n",
            "Length: 3541556520 (3.3G) [text/plain]\n",
            "Saving to: ‘data/train.csv’\n",
            "\n",
            "train.csv           100%[===================>]   3.30G  12.6MB/s    in 4m 30s  \n",
            "\n",
            "2024-12-21 07:02:29 (12.5 MB/s) - ‘data/train.csv’ saved [3541556520/3541556520]\n",
            "\n"
          ]
        }
      ],
      "source": [
        "!wget -nc -P data/ https://zenodo.org/record/4482922/files/train.csv"
      ]
    },
    {
      "cell_type": "markdown",
      "metadata": {
        "id": "Mjsr5XRSEcfQ"
      },
      "source": [
        "Положим на гугл диск, чтобы можно было быстро доставать"
      ]
    },
    {
      "cell_type": "code",
      "execution_count": 1,
      "metadata": {
        "colab": {
          "base_uri": "https://localhost:8080/"
        },
        "id": "x85iV86I81xb",
        "outputId": "be0b6614-6178-4cc1-9cc8-e2a17f009ef1"
      },
      "outputs": [
        {
          "name": "stdout",
          "output_type": "stream",
          "text": [
            "Drive already mounted at /content/gdrive; to attempt to forcibly remount, call drive.mount(\"/content/gdrive\", force_remount=True).\n"
          ]
        }
      ],
      "source": [
        "from google.colab import drive\n",
        "drive.mount('/content/gdrive')"
      ]
    },
    {
      "cell_type": "code",
      "execution_count": 4,
      "metadata": {
        "id": "uJ65DbeRnYwE"
      },
      "outputs": [],
      "source": [
        "a = 'data/train.csv'\n",
        "!cp $a \"/content/gdrive/MyDrive\""
      ]
    },
    {
      "cell_type": "markdown",
      "metadata": {
        "id": "DNfCZxoGAzzt"
      },
      "source": [
        "Можем немного посмотреть на датасет"
      ]
    },
    {
      "cell_type": "code",
      "execution_count": 2,
      "metadata": {
        "colab": {
          "base_uri": "https://localhost:8080/"
        },
        "id": "7FngN3WvHLVX",
        "outputId": "73a625ad-5af3-4026-c53f-f547223c25f7"
      },
      "outputs": [
        {
          "name": "stdout",
          "output_type": "stream",
          "text": [
            "ABSTRACT_ID,TEXT,LOCATION,LABEL\n",
            "14145090,velvet antlers vas are commonly used in traditional chinese medicine and invigorant and contain many PET components for health promotion the velvet antler peptide svap is one of active components in vas based on structural study the svap interacts with tgfÎ² receptors and disrupts the tgfÎ² pathway we hypothesized that svap prevents cardiac fibrosis from pressure overload by blocking tgfÎ² signaling SDRs underwent TAC tac or a sham operation T3 one month rats received either svap mgkgday or vehicle for an additional one month tac surgery induced significant cardiac dysfunction FB activation and fibrosis these effects were improved by treatment with svap in the heart tissue tac remarkably increased the expression of tgfÎ² and connective tissue growth factor ctgf ROS species C2 and the phosphorylation C2 of smad and ERK kinases erk svap inhibited the increases in reactive oxygen species C2 ctgf expression and the phosphorylation of smad and erk but not tgfÎ² expression in cultured cardiac fibroblasts angiotensin ii ang ii had similar effects compared to tac surgery such as increases in Î±smapositive CFs and collagen synthesis svap eliminated these effects by disrupting tgfÎ² IB to its receptors and blocking ang iitgfÎ² downstream signaling these results demonstrated that svap has antifibrotic effects by blocking the tgfÎ² pathway in CFs,63,transverse aortic constriction\n",
            "1900667,the clinical features of our cases demonstrated some of the already known characteristics of the variable spectrum of hiv infection da are the most important risk category in italy of the arc cases evolved into aids during a month followup on average the most frequent oi in our aids cases were pcp c albicans esophagitis and chronic mucocutaneous ulcers an high percentage of neurologic involvement from hiv was observed and HM were encountered in aids ks and undifferentiated b lymphoma as well as in arc HD statistically significant worsening of the immunologic situation is evident as the disease progresses from las to aids G1 b lymphocytes represent most of the cells of the germinal center during the hyperplastic stage of lymphadenopathy reversal of the tt ratio appears early during the initial stage of lymphadenopathy and is due to a decrease of cd and a relative increase of cd also destruction of the follicular dendritic cells is an early feature which becomes more evident as the disease advances and the lymph node evolves toward progressive involution activated blymphocyte augmentation with polyclonal ig secretion appears to be related to TI b stimulation by coinfection such as cmv ebv and hbv the increase of CD8 lymphocytes seems to be partly related to the excessive activation of b lymphocytes and partially directed to the cells INF by hiv or coated with its proteins the destruction of follicular dendritic cells has been interpreted not only as a killer effect of the virus but also as a result of the intervention of ctl sensitized to the cells containing the virus their destruction may contribute to the impaired recognition of soluble antigen which is one of the main features of the immune deficiency of hiv infection,85,hodgkins lymphoma\n",
            "8625554,ceftobiprole bpr is an investigational cephalosporin with activity against staphylococcus aureus including methicillinresistant s aureus mrsa strains the pharmacodynamic pd profile of bpr against s aureus strains with a variety of susceptibility phenotypes in an immunocompromised murine pneumonia model was characterized the bpr mics of the test isolates ranged from to mugml pharmacokinetic pk studies were conducted with infected neutropenic balbc mice and the bpr concentrations were measured in plasma epithelial lining fluid elf and lung tissue pd studies with these mice were undertaken with eight s aureus isolates two MSSA strains three hospitalacquired mrsa strains and three CA mrsa strains subcutaneous bpr doses of to mgkg of body weightday were administered and the NC in the number of log cfuml in lungs was evaluated after h of therapy the pd profile was characterized by using the free drug exposures f determined from the following parameters the percentage of time that the concentration was greater than the mic t mic the Cmax in serummic and the area under the concentrationtime curvemic the bpr pk parameters were linear over the dose range studied in plasma and the elf concentrations ranged from to of the free plasma concentration ft mic was the parameter that best correlated with tau against a diverse array of s aureus isolates in this mu pneumonia model the effective dose ed ed and stasis exposures appeared to be similar among the isolates studied bpr exerted maximal antibacterial effects when ft mic ranged from to regardless of the phenotypic profile of resistance to betalactam fluoroquinolone erythromycin clindamycin or TCs,90,methicillinsusceptible s aureus\n",
            "8157202,we have taken a basic biologic RPA to elucidate the pathophysiology of BPD bpd the CLD based on cellmolecular mechanisms of physiologic lung OD stretch coordinates PTHrP pthrp signaling between the ATII cell and the mesoderm to coordinately upregulate key genes for the homeostatic FB phenotype including peroxisome proliferator G1 TRG ppargamma adipocyte differentiation related protein adrp and OB and the retrograde stimulation of type ii cell surfactant synthesis by leptin each of these paracrine interactions requires cellspecific receptors on adjacent cells derived from the mesoderm or endoderm respectively to serially upregulate the signaling pathways between and within each celltype it is this PET compartmentation that is key to understanding how specific agonists and antagonists can predictably affect this mechanism of AM homeostasis using a wide variety of pathophysiologic insults associated with bpd barotrauma oxotrauma and infection we have found that there are type ii cell andor FB cellmolecular effects generated by these insults which can lead to the bpd phenotype we have exploited these cellspecific mechanisms to effectively prevent and treat lung injuries using ppargamma agonists to sustain this signaling pathway it is critically important to judiciously select physiologically and developmentally relevant interventions when treating the preterm neonate,26,parathyroid hormonerelated protein\n",
            "6784974,lipoperoxidationderived aldehydes for example MDA mda can damage proteins by generating covalent adducts whose accumulation probably participates in tissue damage during aging however the mechanisms of adduct formation and their stability are scarcely known this article investigates whether oxidative steps are involved in the process as a MM of the process the interaction between mda and bovine SS Al bsa was analyzed incubation of bsa with mda resulted in rapid quenching of tryptophan fluorescence and appearance of mda protein adduct fluorescence transition metal ion traces interfered with the latter process mda induced generation of peroxides in bsa which was preventable with the antioxidant BHT bht mdaexposed bsa underwent aggregation degradation and bhtsensitive gel retardation effects phycoerythrin fluorescence disappearance a marker of damage mediated by ROS species indicated synergism between mda and metal ions the interaction between reactive aldehydes and proteins is likely to occur in several steps some of them oxidative in nature giving rise to T3 LPO endproducts which could participate with AGEs in the generation of tissue damage during aging,157,lipoperoxidation\n",
            "4846741,gb virus c gbvc or HGV hgv is transmitted by the parenteral route but the importance of sexual transmission needs to be ascertained gbvchgv infections were investigated using rna and eantibody PCD methods in subjects INF by the HIV-1 hiv divided into groups of individuals each according to their main risk factor for hiv infection blood product recipients group intravenous drug users group homosexuals group or heterosexual SE group the overall prevalence of gbvchgv infection was no significant difference was observed in gbvc hgv prevalence among the four CG and in CG and respectively hepatitis c virus hcv antibodies used as a control for parenteral exposure were found in and of the subjects in groups and versus only and of the subjects in groups and respectively p similarly coinfections with gbvchgv and hcv were significantly associated with the parenteral route p these data emphasized the usefulness of combining the detection of rna and the e antibody to determine the actual prevalence of gbvchgv infection the high prevalence of the gbvchgv markers among the HIV+ subjects especially those with sexual exposure provides additional evidence that this route of transmission plays a key role in the epidemiology of gbvchgv the potential influence of gbvchgv infection on the course of hiv disease needs further DUE,5,hepatitis g virus\n",
            "14445409,to quantify the amount of CL NO harvested in modified RND,10,radical neck dissection\n",
            "9441271,backward SBS was used to control the growth of ASE ase reducing the unwanted emission in a pulseamplified cw tisapphire laser system from to less than x in the final output suppression of ase substantially improved the spectral SQ of the laser and broadened the range over which the laser is useful the SO duration was compressed but the pulse remained nearly transform limited,9,amplified spontaneous emission\n",
            "3689975,in order to study the rate of intestinal absorption and hepatic uptake of mediumchain fatty acids mcfa six growing pigs mean body weight kg were fitted with a permanent fistula in the duodenum and with three catheters in the portal vein i.c. and HV respectively two electromagnetic flow probes were also set up one around the portal vein and one around the hepatic artery a mixture of octanoic and decanoic acids esterified as mediumchain triacylglycerols together with maltose dextrine and a nitrogenous fraction was continuously infused for h into the duodenum samples of blood were withdrawn from the three vessels at regular intervals for h and further analysed for their nonesterified octanoic and decanoic acid contents the concentration of nonesterified octanoic and decanoic acids in the portal blood rose sharply after the beginning of each infusion and showed a biphasic timecourse with two maximum values one T3 min and a later one between and min only of octanoic acid infused into the duodenum and of C10 were recovered in the portal flow throughout each experiment the amounts of nonesterified mcfa taken up per h by the liver were close to those absorbed from the gut via the portal vein within the same periods of time showing that the liver is the main site of utilization of mcfa in pigs these results have been discussed with a special emphasis laid on the possible mechanisms of the biphasic timecourse of mcfa absorption and the incomplete REC in the HPB of the infused fatty acids,246,portal blood\n"
          ]
        }
      ],
      "source": [
        "!cat /content/gdrive/MyDrive/train.csv | head"
      ]
    },
    {
      "cell_type": "markdown",
      "metadata": {
        "id": "T3g8DpPK-q8Z"
      },
      "source": [
        "### Чтение и индексация данных"
      ]
    },
    {
      "cell_type": "code",
      "execution_count": 3,
      "metadata": {
        "id": "jyvBfwPbrROf"
      },
      "outputs": [],
      "source": [
        "from langchain_community.document_loaders.csv_loader import CSVLoader\n",
        "\n",
        "\n",
        "FILE_PATH = '/content/gdrive/MyDrive/train.csv'\n",
        "loader = CSVLoader(file_path=FILE_PATH)\n",
        "docs = loader.lazy_load()"
      ]
    },
    {
      "cell_type": "code",
      "execution_count": 17,
      "metadata": {
        "colab": {
          "base_uri": "https://localhost:8080/",
          "height": 514
        },
        "id": "xjAskuMXDVx-",
        "outputId": "04a6ba68-71d7-46e9-bbc5-5820f70b8061"
      },
      "outputs": [
        {
          "name": "stdout",
          "output_type": "stream",
          "text": [
            "Collecting huggingface_hub==0.25.00\n",
            "  Downloading huggingface_hub-0.25.0-py3-none-any.whl.metadata (13 kB)\n",
            "Requirement already satisfied: filelock in /usr/local/lib/python3.10/dist-packages (from huggingface_hub==0.25.00) (3.16.1)\n",
            "Requirement already satisfied: fsspec>=2023.5.0 in /usr/local/lib/python3.10/dist-packages (from huggingface_hub==0.25.00) (2024.9.0)\n",
            "Requirement already satisfied: packaging>=20.9 in /usr/local/lib/python3.10/dist-packages (from huggingface_hub==0.25.00) (24.2)\n",
            "Requirement already satisfied: pyyaml>=5.1 in /usr/local/lib/python3.10/dist-packages (from huggingface_hub==0.25.00) (6.0.2)\n",
            "Requirement already satisfied: requests in /usr/local/lib/python3.10/dist-packages (from huggingface_hub==0.25.00) (2.32.3)\n",
            "Requirement already satisfied: tqdm>=4.42.1 in /usr/local/lib/python3.10/dist-packages (from huggingface_hub==0.25.00) (4.67.1)\n",
            "Requirement already satisfied: typing-extensions>=3.7.4.3 in /usr/local/lib/python3.10/dist-packages (from huggingface_hub==0.25.00) (4.12.2)\n",
            "Requirement already satisfied: charset-normalizer<4,>=2 in /usr/local/lib/python3.10/dist-packages (from requests->huggingface_hub==0.25.00) (3.4.0)\n",
            "Requirement already satisfied: idna<4,>=2.5 in /usr/local/lib/python3.10/dist-packages (from requests->huggingface_hub==0.25.00) (3.10)\n",
            "Requirement already satisfied: urllib3<3,>=1.21.1 in /usr/local/lib/python3.10/dist-packages (from requests->huggingface_hub==0.25.00) (2.2.3)\n",
            "Requirement already satisfied: certifi>=2017.4.17 in /usr/local/lib/python3.10/dist-packages (from requests->huggingface_hub==0.25.00) (2024.12.14)\n",
            "Downloading huggingface_hub-0.25.0-py3-none-any.whl (436 kB)\n",
            "\u001b[2K   \u001b[90m━━━━━━━━━━━━━━━━━━━━━━━━━━━━━━━━━━━━━━━━\u001b[0m \u001b[32m436.4/436.4 kB\u001b[0m \u001b[31m12.0 MB/s\u001b[0m eta \u001b[36m0:00:00\u001b[0m\n",
            "\u001b[?25hInstalling collected packages: huggingface_hub\n",
            "  Attempting uninstall: huggingface_hub\n",
            "    Found existing installation: huggingface-hub 0.27.0\n",
            "    Uninstalling huggingface-hub-0.27.0:\n",
            "      Successfully uninstalled huggingface-hub-0.27.0\n",
            "Successfully installed huggingface_hub-0.25.0\n"
          ]
        },
        {
          "data": {
            "application/vnd.colab-display-data+json": {
              "id": "018bb86a5ba4460abce0417cc407c3d8",
              "pip_warning": {
                "packages": [
                  "huggingface_hub"
                ]
              }
            }
          },
          "metadata": {},
          "output_type": "display_data"
        }
      ],
      "source": [
        "!pip install huggingface_hub==0.25.00"
      ]
    },
    {
      "cell_type": "markdown",
      "metadata": {
        "id": "qJO_GjbdEllO"
      },
      "source": [
        "Задаем модель для эмбединга наших документов"
      ]
    },
    {
      "cell_type": "code",
      "execution_count": 4,
      "metadata": {
        "colab": {
          "base_uri": "https://localhost:8080/"
        },
        "id": "sLTqde5qEJfd",
        "outputId": "611f4cb2-32c0-4f4c-c565-03170e0851d7"
      },
      "outputs": [
        {
          "name": "stderr",
          "output_type": "stream",
          "text": [
            "/usr/local/lib/python3.10/dist-packages/InstructorEmbedding/instructor.py:7: TqdmExperimentalWarning: Using `tqdm.autonotebook.tqdm` in notebook mode. Use `tqdm.tqdm` instead to force console mode (e.g. in jupyter console)\n",
            "  from tqdm.autonotebook import trange\n"
          ]
        },
        {
          "name": "stdout",
          "output_type": "stream",
          "text": [
            "load INSTRUCTOR_Transformer\n",
            "max_seq_length  512\n"
          ]
        },
        {
          "name": "stderr",
          "output_type": "stream",
          "text": [
            "/usr/local/lib/python3.10/dist-packages/sentence_transformers/models/Dense.py:63: FutureWarning: You are using `torch.load` with `weights_only=False` (the current default value), which uses the default pickle module implicitly. It is possible to construct malicious pickle data which will execute arbitrary code during unpickling (See https://github.com/pytorch/pytorch/blob/main/SECURITY.md#untrusted-models for more details). In a future release, the default value for `weights_only` will be flipped to `True`. This limits the functions that could be executed during unpickling. Arbitrary objects will no longer be allowed to be loaded via this mode unless they are explicitly allowlisted by the user via `torch.serialization.add_safe_globals`. We recommend you start setting `weights_only=True` for any use case where you don't have full control of the loaded file. Please open an issue on GitHub for any issues related to this experimental feature.\n",
            "  model.load_state_dict(torch.load(os.path.join(input_path, 'pytorch_model.bin'), map_location=torch.device('cpu')))\n"
          ]
        }
      ],
      "source": [
        "from langchain.embeddings import HuggingFaceInstructEmbeddings\n",
        "import torch\n",
        "\n",
        "emb_model = HuggingFaceInstructEmbeddings(model_name='hkunlp/instructor-large', model_kwargs={'device':'cuda' if torch.cuda.is_available() else 'cpu'})"
      ]
    },
    {
      "cell_type": "markdown",
      "metadata": {
        "id": "k1ToIRwfEp-E"
      },
      "source": [
        "Задаем индекс для наших эмбедингов"
      ]
    },
    {
      "cell_type": "code",
      "execution_count": 5,
      "metadata": {
        "colab": {
          "base_uri": "https://localhost:8080/"
        },
        "id": "gZ-1ZrUzJWhA",
        "outputId": "41142f1f-9be3-4cc7-b866-e23d0d88b149"
      },
      "outputs": [
        {
          "name": "stderr",
          "output_type": "stream",
          "text": [
            "<ipython-input-5-a324ea95bec2>:5: LangChainDeprecationWarning: The class `Chroma` was deprecated in LangChain 0.2.9 and will be removed in 1.0. An updated version of the class exists in the :class:`~langchain-chroma package and should be used instead. To use it run `pip install -U :class:`~langchain-chroma` and import as `from :class:`~langchain_chroma import Chroma``.\n",
            "  vectordb = Chroma(persist_directory=persist_directory, embedding_function = emb_model)\n",
            "<ipython-input-5-a324ea95bec2>:6: LangChainDeprecationWarning: Since Chroma 0.4.x the manual persistence method is no longer supported as docs are automatically persisted.\n",
            "  vectordb.persist()\n"
          ]
        }
      ],
      "source": [
        "from langchain.vectorstores import Chroma\n",
        "\n",
        "persist_directory = 'DB'\n",
        "\n",
        "vectordb = Chroma(persist_directory=persist_directory, embedding_function = emb_model)\n",
        "vectordb.persist()"
      ]
    },
    {
      "cell_type": "markdown",
      "metadata": {
        "id": "f0peJoxmEs76"
      },
      "source": [
        "Проиндексируем документы. Делаем это для первых N_DOCS штук (все 3млн долго)"
      ]
    },
    {
      "cell_type": "code",
      "execution_count": 6,
      "metadata": {
        "colab": {
          "base_uri": "https://localhost:8080/",
          "height": 49,
          "referenced_widgets": [
            "93ebba92619a4409bbefb53c4cfed6e9",
            "7be21520d4f24360b2bdaa1216a8b3bf",
            "df314579d964488494d86a232b3baebe",
            "31071c9557bf4a73b85b58abfdde5d1d",
            "32b69962adcb4d04a0152ab8c706bb7a",
            "b168acec3c6543bc89290eff371f469e",
            "451f509d88c043479e363ecdf76cba0c",
            "414e391394cc4d8ab76c176f6d97ab7e",
            "0f4defe337a24d08aac9446e7c0c98e8",
            "92d0541f91c64715a1573fdd04d653b2",
            "838ba780d50b4cfbaf13ae8978ee88d3"
          ]
        },
        "id": "UHH8Uc2wXmok",
        "outputId": "408f168d-04f5-454e-e907-8ffedf177cef"
      },
      "outputs": [
        {
          "data": {
            "application/vnd.jupyter.widget-view+json": {
              "model_id": "93ebba92619a4409bbefb53c4cfed6e9",
              "version_major": 2,
              "version_minor": 0
            },
            "text/plain": [
              "  0%|          | 0/1000 [00:00<?, ?it/s]"
            ]
          },
          "metadata": {},
          "output_type": "display_data"
        }
      ],
      "source": [
        "from tqdm.auto import tqdm\n",
        "from langchain.docstore.document import Document\n",
        "\n",
        "N_DOCS=1000\n",
        "i = 0\n",
        "batch = []\n",
        "\n",
        "for i, doc in tqdm(enumerate(docs), total=N_DOCS):\n",
        "  content = doc.page_content\n",
        "  # print(content)\n",
        "  text = content.split('\\n')[1][6:]\n",
        "  label = content.split('\\n')[3][7:]\n",
        "  batch.append(Document(page_content=text, metadata={'diagnosis': label}))\n",
        "  vectordb.add_documents(batch)\n",
        "  batch = []\n",
        "  if i >= 1000:\n",
        "    break\n",
        "\n",
        "vectordb.persist()"
      ]
    },
    {
      "cell_type": "code",
      "execution_count": 7,
      "metadata": {
        "id": "AcPcgVBrxjIa"
      },
      "outputs": [],
      "source": [
        "vectordb.persist()"
      ]
    },
    {
      "cell_type": "code",
      "execution_count": 8,
      "metadata": {
        "colab": {
          "base_uri": "https://localhost:8080/"
        },
        "id": "P29GglF4OPla",
        "outputId": "2dfe5990-326e-4ccb-cf9f-0338f2224ed7"
      },
      "outputs": [
        {
          "name": "stdout",
          "output_type": "stream",
          "text": [
            "total 24M\n",
            "-rw-r--r-- 1 root root  24M Dec 21 07:24 chroma.sqlite3\n",
            "drwxr-xr-x 2 root root 4.0K Dec 21 07:15 a5947ad9-c88f-40fc-959b-5aa9d4295b0f\n"
          ]
        }
      ],
      "source": [
        "!ls -lht DB"
      ]
    },
    {
      "cell_type": "code",
      "execution_count": 9,
      "metadata": {
        "colab": {
          "base_uri": "https://localhost:8080/"
        },
        "id": "1GZTf4s54jTm",
        "outputId": "4c0a464a-4086-4324-856b-b2125f4a6bae"
      },
      "outputs": [
        {
          "data": {
            "text/plain": [
              "81"
            ]
          },
          "execution_count": 9,
          "metadata": {},
          "output_type": "execute_result"
        }
      ],
      "source": [
        "import gc\n",
        "gc.collect()"
      ]
    },
    {
      "cell_type": "markdown",
      "metadata": {
        "id": "wVaympFkE0Sv"
      },
      "source": [
        "Теперь подгрузим саму LLM, мы выбрали небольшую vicuna-7b"
      ]
    },
    {
      "cell_type": "code",
      "execution_count": 10,
      "metadata": {
        "id": "u1wv3D-CLii9"
      },
      "outputs": [],
      "source": [
        "from langchain_community.llms.huggingface_pipeline import HuggingFacePipeline\n",
        "from langchain.chains.query_constructor.base import AttributeInfo\n",
        "from langchain.retrievers.self_query.base import SelfQueryRetriever\n",
        "import torch"
      ]
    },
    {
      "cell_type": "code",
      "execution_count": 11,
      "metadata": {
        "colab": {
          "base_uri": "https://localhost:8080/",
          "height": 408,
          "referenced_widgets": [
            "aec67247764a495f8d0448439ba3ea4e",
            "f5d34d1e495541338245e3be90d66985",
            "a83f68594b244329abd2ff64a00dbc5a",
            "265a291678a3445eb157713415794b86",
            "7be0055803ca4cee8716a80a06f007dd",
            "fc86c001b79444848cdcfac9392406fa",
            "570a1c7110a74b1ebad25be08b4f19d1",
            "cc0d284dc3f04f86b533194d55220f8b",
            "ce6387946d7f4cfc959a9fc901b424c9",
            "2059ca18ce8c448bba282582a1474d7f",
            "1d4b16f33e43432c8d83810500ac3203"
          ]
        },
        "id": "esFiR-vzIiZl",
        "outputId": "56d9aa74-1cb1-4a32-bfbe-8365eeb9a36c"
      },
      "outputs": [
        {
          "name": "stderr",
          "output_type": "stream",
          "text": [
            "/usr/local/lib/python3.10/dist-packages/huggingface_hub/utils/_token.py:90: UserWarning: \n",
            "The secret `HF_TOKEN` does not exist in your Colab secrets.\n",
            "To authenticate with the Hugging Face Hub, create a token in your settings tab (https://huggingface.co/settings/tokens), set it as secret in your Google Colab and restart your session.\n",
            "You will be able to reuse this secret in all of your notebooks.\n",
            "Please note that authentication is recommended but still optional to access public models or datasets.\n",
            "  warnings.warn(\n",
            "The `load_in_4bit` and `load_in_8bit` arguments are deprecated and will be removed in the future versions. Please, pass a `BitsAndBytesConfig` object in `quantization_config` argument instead.\n"
          ]
        },
        {
          "data": {
            "application/vnd.jupyter.widget-view+json": {
              "model_id": "aec67247764a495f8d0448439ba3ea4e",
              "version_major": 2,
              "version_minor": 0
            },
            "text/plain": [
              "Loading checkpoint shards:   0%|          | 0/2 [00:00<?, ?it/s]"
            ]
          },
          "metadata": {},
          "output_type": "display_data"
        },
        {
          "name": "stderr",
          "output_type": "stream",
          "text": [
            "/usr/local/lib/python3.10/dist-packages/transformers/generation/configuration_utils.py:628: UserWarning: `do_sample` is set to `False`. However, `temperature` is set to `0.9` -- this flag is only used in sample-based generation modes. You should set `do_sample=True` or unset `temperature`. This was detected when initializing the generation config instance, which means the corresponding file may hold incorrect parameterization and should be fixed.\n",
            "  warnings.warn(\n",
            "/usr/local/lib/python3.10/dist-packages/transformers/generation/configuration_utils.py:633: UserWarning: `do_sample` is set to `False`. However, `top_p` is set to `0.6` -- this flag is only used in sample-based generation modes. You should set `do_sample=True` or unset `top_p`. This was detected when initializing the generation config instance, which means the corresponding file may hold incorrect parameterization and should be fixed.\n",
            "  warnings.warn(\n",
            "/usr/local/lib/python3.10/dist-packages/transformers/generation/configuration_utils.py:628: UserWarning: `do_sample` is set to `False`. However, `temperature` is set to `0.9` -- this flag is only used in sample-based generation modes. You should set `do_sample=True` or unset `temperature`.\n",
            "  warnings.warn(\n",
            "/usr/local/lib/python3.10/dist-packages/transformers/generation/configuration_utils.py:633: UserWarning: `do_sample` is set to `False`. However, `top_p` is set to `0.6` -- this flag is only used in sample-based generation modes. You should set `do_sample=True` or unset `top_p`.\n",
            "  warnings.warn(\n",
            "Device set to use cuda:0\n",
            "<ipython-input-11-a291ec7ad94e>:8: LangChainDeprecationWarning: The class `HuggingFacePipeline` was deprecated in LangChain 0.0.37 and will be removed in 1.0. An updated version of the class exists in the :class:`~langchain-huggingface package and should be used instead. To use it run `pip install -U :class:`~langchain-huggingface` and import as `from :class:`~langchain_huggingface import HuggingFacePipeline``.\n",
            "  llm = HuggingFacePipeline(pipeline=pipe)\n"
          ]
        }
      ],
      "source": [
        "from transformers import AutoModelForCausalLM, AutoTokenizer, pipeline\n",
        "\n",
        "model_id = \"lmsys/vicuna-7b-v1.5\"\n",
        "tokenizer = AutoTokenizer.from_pretrained(model_id)\n",
        "model = AutoModelForCausalLM.from_pretrained(model_id, device_map=\"auto\", load_in_4bit=True)\n",
        "pipe = pipeline(\"text-generation\", model=model, tokenizer=tokenizer, max_new_tokens=200)\n",
        "\n",
        "llm = HuggingFacePipeline(pipeline=pipe)"
      ]
    },
    {
      "cell_type": "markdown",
      "metadata": {
        "id": "Vld3EIGzFCvj"
      },
      "source": [
        "Определяем ретривер и проверяем, что поиск по индексу работает"
      ]
    },
    {
      "cell_type": "code",
      "execution_count": 12,
      "metadata": {
        "id": "C3cGYIdmNJOn"
      },
      "outputs": [],
      "source": [
        "retriever = vectordb.as_retriever()"
      ]
    },
    {
      "cell_type": "code",
      "execution_count": 13,
      "metadata": {
        "colab": {
          "base_uri": "https://localhost:8080/"
        },
        "id": "n9n3n0irnHf3",
        "outputId": "d7d4cdf0-3e8b-413f-c5f4-db58f3265953"
      },
      "outputs": [
        {
          "data": {
            "text/plain": [
              "[Document(metadata={'diagnosis': 'methicillinsusceptible s aureus'}, page_content='ceftobiprole bpr is an investigational cephalosporin with activity against staphylococcus aureus including methicillinresistant s aureus mrsa strains the pharmacodynamic pd profile of bpr against s aureus strains with a variety of susceptibility phenotypes in an immunocompromised murine pneumonia model was characterized the bpr mics of the test isolates ranged from to mugml pharmacokinetic pk studies were conducted with infected neutropenic balbc mice and the bpr concentrations were measured in plasma epithelial lining fluid elf and lung tissue pd studies with these mice were undertaken with eight s aureus isolates two MSSA strains three hospitalacquired mrsa strains and three CA mrsa strains subcutaneous bpr doses of to mgkg of body weightday were administered and the NC in the number of log cfuml in lungs was evaluated after h of therapy the pd profile was characterized by using the free drug exposures f determined from the following parameters the percentage of time that the concentration was greater than the mic t mic the Cmax in serummic and the area under the concentrationtime curvemic the bpr pk parameters were linear over the dose range studied in plasma and the elf concentrations ranged from to of the free plasma concentration ft mic was the parameter that best correlated with tau against a diverse array of s aureus isolates in this mu pneumonia model the effective dose ed ed and stasis exposures appeared to be similar among the isolates studied bpr exerted maximal antibacterial effects when ft mic ranged from to regardless of the phenotypic profile of resistance to betalactam fluoroquinolone erythromycin clindamycin or TCs'),\n",
              " Document(metadata={'diagnosis': 'methicillinsusceptible s aureus'}, page_content='ceftobiprole bpr is an investigational cephalosporin with activity against staphylococcus aureus including methicillinresistant s aureus mrsa strains the pharmacodynamic pd profile of bpr against s aureus strains with a variety of susceptibility phenotypes in an immunocompromised murine pneumonia model was characterized the bpr mics of the test isolates ranged from to mugml pharmacokinetic pk studies were conducted with infected neutropenic balbc mice and the bpr concentrations were measured in plasma epithelial lining fluid elf and lung tissue pd studies with these mice were undertaken with eight s aureus isolates two MSSA strains three hospitalacquired mrsa strains and three CA mrsa strains subcutaneous bpr doses of to mgkg of body weightday were administered and the NC in the number of log cfuml in lungs was evaluated after h of therapy the pd profile was characterized by using the free drug exposures f determined from the following parameters the percentage of time that the concentration was greater than the mic t mic the Cmax in serummic and the area under the concentrationtime curvemic the bpr pk parameters were linear over the dose range studied in plasma and the elf concentrations ranged from to of the free plasma concentration ft mic was the parameter that best correlated with tau against a diverse array of s aureus isolates in this mu pneumonia model the effective dose ed ed and stasis exposures appeared to be similar among the isolates studied bpr exerted maximal antibacterial effects when ft mic ranged from to regardless of the phenotypic profile of resistance to betalactam fluoroquinolone erythromycin clindamycin or TCs'),\n",
              " Document(metadata={'diagnosis': 'bipolar'}, page_content='valproate an anticonvulsant drug used to treat bipolar disorder was studied for its ability to promote neurogenesis from embryonic rat cortical or striatal primordial stem cells six days of valproate SE increased by up to fivefold the number and percentage of tubulin beta iiiimmunopositive SN increased neurite outgrowth and decreased by fivefold the number of astrocytes without changing the number of cells valproate also promoted neuronal differentiation in human fetal forebrain SC cultures the neurogenic effects of valproate on rat stem cells exceeded those obtained with the neurotrophins brainderived growth factor bdnf or nt and slightly exceeded the effects obtained with another mood stabilizer lithium no effect was observed with carbamazepine most of the newly formed neurons were gabaergic as shown by fold increases in SN that immunostained for gaba and the gabasynthesizing enzyme gad double immunostaining for bromodeoxyuridine and tubulin beta iii showed that valproate increased by four to fivefold the proliferation of neuronal progenitors derived from rat stem cells and increased cyclin d expression valproate also regulated the expression of survival genes bad and bcl at different times of treatment the expression of prostaglandin e synthase analyzed by quantitative rtpcr was increased by ninefold as early as h into treatment by valproate the enhancement of gabaergic neuron numbers neurite outgrowth and phenotypic expression via increases in the neuronal differentiation of neural stem cell may contribute to the therapeutic effects of valproate in the treatment of BP disorder'),\n",
              " Document(metadata={'diagnosis': 'bipolar'}, page_content='valproate an anticonvulsant drug used to treat bipolar disorder was studied for its ability to promote neurogenesis from embryonic rat cortical or striatal primordial stem cells six days of valproate SE increased by up to fivefold the number and percentage of tubulin beta iiiimmunopositive SN increased neurite outgrowth and decreased by fivefold the number of astrocytes without changing the number of cells valproate also promoted neuronal differentiation in human fetal forebrain SC cultures the neurogenic effects of valproate on rat stem cells exceeded those obtained with the neurotrophins brainderived growth factor bdnf or nt and slightly exceeded the effects obtained with another mood stabilizer lithium no effect was observed with carbamazepine most of the newly formed neurons were gabaergic as shown by fold increases in SN that immunostained for gaba and the gabasynthesizing enzyme gad double immunostaining for bromodeoxyuridine and tubulin beta iii showed that valproate increased by four to fivefold the proliferation of neuronal progenitors derived from rat stem cells and increased cyclin d expression valproate also regulated the expression of survival genes bad and bcl at different times of treatment the expression of prostaglandin e synthase analyzed by quantitative rtpcr was increased by ninefold as early as h into treatment by valproate the enhancement of gabaergic neuron numbers neurite outgrowth and phenotypic expression via increases in the neuronal differentiation of neural stem cell may contribute to the therapeutic effects of valproate in the treatment of BP disorder')]"
            ]
          },
          "execution_count": 13,
          "metadata": {},
          "output_type": "execute_result"
        }
      ],
      "source": [
        "retriever.invoke(\"ceftobiprole bpr\")"
      ]
    },
    {
      "cell_type": "markdown",
      "metadata": {
        "id": "k53ksyre70FD"
      },
      "source": [
        "Все работает"
      ]
    },
    {
      "cell_type": "markdown",
      "metadata": {
        "id": "hhSWOTpLAMbO"
      },
      "source": [
        "### Prompt Engineering. Создание Prompt Template для выбранной LLM модели"
      ]
    },
    {
      "cell_type": "code",
      "execution_count": 15,
      "metadata": {
        "colab": {
          "base_uri": "https://localhost:8080/",
          "height": 816
        },
        "id": "964Z9MHDF-TV",
        "outputId": "bb39d265-c984-4b04-e3df-e61b903e5635"
      },
      "outputs": [
        {
          "name": "stdout",
          "output_type": "stream",
          "text": [
            "Requirement already satisfied: transformers in /usr/local/lib/python3.10/dist-packages (4.46.3)\n",
            "Collecting transformers\n",
            "  Downloading transformers-4.47.1-py3-none-any.whl.metadata (44 kB)\n",
            "\u001b[2K     \u001b[90m━━━━━━━━━━━━━━━━━━━━━━━━━━━━━━━━━━━━━━━━\u001b[0m \u001b[32m44.1/44.1 kB\u001b[0m \u001b[31m3.5 MB/s\u001b[0m eta \u001b[36m0:00:00\u001b[0m\n",
            "\u001b[?25hRequirement already satisfied: filelock in /usr/local/lib/python3.10/dist-packages (from transformers) (3.16.1)\n",
            "Requirement already satisfied: huggingface-hub<1.0,>=0.24.0 in /usr/local/lib/python3.10/dist-packages (from transformers) (0.25.0)\n",
            "Requirement already satisfied: numpy>=1.17 in /usr/local/lib/python3.10/dist-packages (from transformers) (1.26.4)\n",
            "Requirement already satisfied: packaging>=20.0 in /usr/local/lib/python3.10/dist-packages (from transformers) (24.2)\n",
            "Requirement already satisfied: pyyaml>=5.1 in /usr/local/lib/python3.10/dist-packages (from transformers) (6.0.2)\n",
            "Requirement already satisfied: regex!=2019.12.17 in /usr/local/lib/python3.10/dist-packages (from transformers) (2024.11.6)\n",
            "Requirement already satisfied: requests in /usr/local/lib/python3.10/dist-packages (from transformers) (2.32.3)\n",
            "Collecting tokenizers<0.22,>=0.21 (from transformers)\n",
            "  Downloading tokenizers-0.21.0-cp39-abi3-manylinux_2_17_x86_64.manylinux2014_x86_64.whl.metadata (6.7 kB)\n",
            "Requirement already satisfied: safetensors>=0.4.1 in /usr/local/lib/python3.10/dist-packages (from transformers) (0.4.5)\n",
            "Requirement already satisfied: tqdm>=4.27 in /usr/local/lib/python3.10/dist-packages (from transformers) (4.67.1)\n",
            "Requirement already satisfied: fsspec>=2023.5.0 in /usr/local/lib/python3.10/dist-packages (from huggingface-hub<1.0,>=0.24.0->transformers) (2024.9.0)\n",
            "Requirement already satisfied: typing-extensions>=3.7.4.3 in /usr/local/lib/python3.10/dist-packages (from huggingface-hub<1.0,>=0.24.0->transformers) (4.12.2)\n",
            "Requirement already satisfied: charset-normalizer<4,>=2 in /usr/local/lib/python3.10/dist-packages (from requests->transformers) (3.4.0)\n",
            "Requirement already satisfied: idna<4,>=2.5 in /usr/local/lib/python3.10/dist-packages (from requests->transformers) (3.10)\n",
            "Requirement already satisfied: urllib3<3,>=1.21.1 in /usr/local/lib/python3.10/dist-packages (from requests->transformers) (2.2.3)\n",
            "Requirement already satisfied: certifi>=2017.4.17 in /usr/local/lib/python3.10/dist-packages (from requests->transformers) (2024.12.14)\n",
            "Downloading transformers-4.47.1-py3-none-any.whl (10.1 MB)\n",
            "\u001b[2K   \u001b[90m━━━━━━━━━━━━━━━━━━━━━━━━━━━━━━━━━━━━━━━━\u001b[0m \u001b[32m10.1/10.1 MB\u001b[0m \u001b[31m68.1 MB/s\u001b[0m eta \u001b[36m0:00:00\u001b[0m\n",
            "\u001b[?25hDownloading tokenizers-0.21.0-cp39-abi3-manylinux_2_17_x86_64.manylinux2014_x86_64.whl (3.0 MB)\n",
            "\u001b[2K   \u001b[90m━━━━━━━━━━━━━━━━━━━━━━━━━━━━━━━━━━━━━━━━\u001b[0m \u001b[32m3.0/3.0 MB\u001b[0m \u001b[31m43.9 MB/s\u001b[0m eta \u001b[36m0:00:00\u001b[0m\n",
            "\u001b[?25hInstalling collected packages: tokenizers, transformers\n",
            "  Attempting uninstall: tokenizers\n",
            "    Found existing installation: tokenizers 0.20.3\n",
            "    Uninstalling tokenizers-0.20.3:\n",
            "      Successfully uninstalled tokenizers-0.20.3\n",
            "  Attempting uninstall: transformers\n",
            "    Found existing installation: transformers 4.46.3\n",
            "    Uninstalling transformers-4.46.3:\n",
            "      Successfully uninstalled transformers-4.46.3\n",
            "\u001b[31mERROR: pip's dependency resolver does not currently take into account all the packages that are installed. This behaviour is the source of the following dependency conflicts.\n",
            "chromadb 0.5.23 requires tokenizers<=0.20.3,>=0.13.2, but you have tokenizers 0.21.0 which is incompatible.\u001b[0m\u001b[31m\n",
            "\u001b[0mSuccessfully installed tokenizers-0.21.0 transformers-4.47.1\n"
          ]
        },
        {
          "data": {
            "application/vnd.colab-display-data+json": {
              "id": "c120e25d38da4b7687c53bef32fe2707",
              "pip_warning": {
                "packages": [
                  "transformers"
                ]
              }
            }
          },
          "metadata": {},
          "output_type": "display_data"
        }
      ],
      "source": [
        "!pip install --upgrade transformers"
      ]
    },
    {
      "cell_type": "markdown",
      "metadata": {
        "id": "PMk58GKKIWlq"
      },
      "source": [
        "Токенизатор для нашей модели"
      ]
    },
    {
      "cell_type": "code",
      "execution_count": 20,
      "metadata": {
        "id": "-fveUEQTjTGg"
      },
      "outputs": [],
      "source": [
        "from pprint import pp as pprint\n",
        "from transformers import AutoTokenizer\n",
        "tokenizer = AutoTokenizer.from_pretrained(model_id)"
      ]
    },
    {
      "cell_type": "markdown",
      "metadata": {
        "id": "xdbDeqKh1BLM"
      },
      "source": [
        "Создадим темплейты (учитывабщие и не учитывающие историю)\n",
        "\n",
        "prompt template можно посмотреть на https://github.com/chujiezheng/chat_templates и replicate.com. Например, для LLama 3 они тут\n",
        "\n",
        "https://replicate.com/meta/meta-llama-3-70b-instruct\n",
        "https://github.com/chujiezheng/chat_templates/blob/main/chat_templates/llama-3-chat.jinja"
      ]
    },
    {
      "cell_type": "code",
      "execution_count": 21,
      "metadata": {
        "colab": {
          "base_uri": "https://localhost:8080/",
          "height": 36
        },
        "id": "Y-DUdtsAQa6z",
        "outputId": "28846adf-8833-4556-b132-0d4f499c2ad4"
      },
      "outputs": [
        {
          "data": {
            "application/vnd.google.colaboratory.intrinsic+json": {
              "type": "string"
            },
            "text/plain": [
              "'<s>'"
            ]
          },
          "execution_count": 21,
          "metadata": {},
          "output_type": "execute_result"
        }
      ],
      "source": [
        "tokenizer.bos_token"
      ]
    },
    {
      "cell_type": "code",
      "execution_count": 22,
      "metadata": {
        "colab": {
          "base_uri": "https://localhost:8080/"
        },
        "id": "E0HWtofKj9dH",
        "outputId": "8ffc7152-8970-48bd-ad34-5521fd3747f6"
      },
      "outputs": [
        {
          "data": {
            "text/plain": [
              "PromptTemplate(input_variables=['context', 'question'], input_types={}, partial_variables={'SYSTEM_PROMPT': \"A chat between a curious user and an artificial intelligence assistant. The assistant gives helpful, detailed, and polite answers to the user's questions.\", 'instruction': 'Your role here is specific: you are a doctor which knows everything about diseases, illnesses and medical stuff. You should answer USER questions about diseases, treatment and other questions concerning health. Use the following context from USER to answer questions. Question is the last sentence of USER\\'s query and goes after words \"Main Question: \". Be as detailed as possible, but don\\'t make up any information that\\'s not from the context. If you don\\'t know an answer, say you don\\'t know.'}, template='<s>{SYSTEM_PROMPT}\\n\\n{instruction}\\n\\nUSER: {context}. Main Question: {question}\\nASSISTANT:')"
            ]
          },
          "execution_count": 22,
          "metadata": {},
          "output_type": "execute_result"
        }
      ],
      "source": [
        "\"\"\"LLama 3 template:\n",
        "<|begin_of_text|><|start_header_id|>system<|end_header_id|>\n",
        "\n",
        "You are a helpful assistant<|eot_id|><|start_header_id|>user<|end_header_id|>\n",
        "\n",
        "{prompt}<|eot_id|><|start_header_id|>assistant<|end_header_id|>\n",
        "\"\"\"\n",
        "\n",
        "# Для викуни такой темплейт:\n",
        "\"\"\"Vicuna jinja template:\n",
        "{% if messages[0]['role'] == 'system' %}\n",
        "    {% set loop_messages = messages[1:] %}\n",
        "    {% set system_message = messages[0]['content'].strip() + '\\n\\n' %}\n",
        "{% else %}\n",
        "    {% set loop_messages = messages %}\n",
        "    {% set system_message = '' %}\n",
        "{% endif %}\n",
        "\n",
        "{{ bos_token + system_message }}\n",
        "{% for message in loop_messages %}\n",
        "    {% if (message['role'] == 'user') != (loop.index0 % 2 == 0) %}\n",
        "        {{ raise_exception('Conversation roles must alternate user/assistant/user/assistant/...') }}\n",
        "    {% endif %}\n",
        "\n",
        "    {% if message['role'] == 'user' %}\n",
        "        {{ 'USER: ' + message['content'].strip() + '\\n' }}\n",
        "    {% elif message['role'] == 'assistant' %}\n",
        "        {{ 'ASSISTANT: ' + message['content'].strip() + eos_token + '\\n' }}\n",
        "    {% endif %}\n",
        "\n",
        "    {% if loop.last and message['role'] == 'user' and add_generation_prompt %}\n",
        "        {{ 'ASSISTANT:' }}\n",
        "    {% endif %}\n",
        "{% endfor %}\n",
        "\"\"\"\n",
        "\n",
        "from langchain.prompts import PromptTemplate\n",
        "\n",
        "\n",
        "SYSTEM_PROMPT = \"\"\"A chat between a curious user and an artificial intelligence assistant.\n",
        "The assistant gives helpful, detailed, and polite answers to the user's questions.\"\"\"\n",
        "SYSTEM_PROMPT = ' '.join(SYSTEM_PROMPT.split('\\n'))\n",
        "\n",
        "USE_HISTORY = False\n",
        "if USE_HISTORY:\n",
        "    # это если у нас есть история диалога\n",
        "    instruction = '''Your role here is specific: you are a doctor which knows everything about diseases, illnesses and medical stuff.\n",
        "You should answer USER questions about diseases, treatment and other questions concerning health.\n",
        "Use the following context from USER to answer questions. Question is the last USER's query.\n",
        "A relevant document is given above and goes after words \"DOCUMENT: \". Try to use this information in your answer.\n",
        "After the \"DOCUMENT: \" and the body of the document you are given a chat history - conversation with USER. Answer the last USER's question.\n",
        "Be as detailed as possible, but don't make up any information that's not from the context.\n",
        "If you don't know an answer, say you don't know.'''\n",
        "    instruction = ' '.join(instruction.split('\\n'))\n",
        "    prompt_template = '''<s>{SYSTEM_PROMPT}\n",
        "\n",
        "{instruction}\n",
        "\n",
        "DOCUMENT: {document}\n",
        "\n",
        "{history}\n",
        "USER: {input}\n",
        "ASSISTANT:'''\n",
        "    prompt = PromptTemplate(input_variables=[\"document\", 'input', 'history'],\n",
        "                            partial_variables={\"SYSTEM_PROMPT\": SYSTEM_PROMPT, \"instruction\": instruction},\n",
        "                            template=prompt_template)\n",
        "else:\n",
        "    instruction = '''Your role here is specific: you are a doctor which knows everything about diseases, illnesses and medical stuff.\n",
        "You should answer USER questions about diseases, treatment and other questions concerning health.\n",
        "Use the following context from USER to answer questions. Question is the last sentence of USER's query and goes after words \"Main Question: \".\n",
        "Be as detailed as possible, but don't make up any information that's not from the context.\n",
        "If you don't know an answer, say you don't know.'''\n",
        "    instruction = ' '.join(instruction.split('\\n'))\n",
        "    prompt_template = '''<s>{SYSTEM_PROMPT}\n",
        "\n",
        "{instruction}\n",
        "\n",
        "USER: {context}. Main Question: {question}\n",
        "ASSISTANT:'''                             # тут документ запихнули в первую реплику пользователя - это один из методов\n",
        "    prompt = PromptTemplate(input_variables=[\"context\", 'question'],\n",
        "                            partial_variables={\"SYSTEM_PROMPT\": SYSTEM_PROMPT, \"instruction\": instruction},\n",
        "                            template=prompt_template)\n",
        "prompt"
      ]
    },
    {
      "cell_type": "markdown",
      "metadata": {
        "id": "W_digc0KBW_Y"
      },
      "source": [
        "### Создание Chain (Langchain pipeline)"
      ]
    },
    {
      "cell_type": "code",
      "execution_count": 23,
      "metadata": {
        "id": "zl5LxmQhl9Ea"
      },
      "outputs": [],
      "source": [
        "from langchain_core.runnables import RunnablePassthrough\n",
        "from langchain_core.output_parsers.string import StrOutputParser\n",
        "\n",
        "def format_docs(docs):\n",
        "    return \"\\n\\n\".join(doc.page_content for doc in docs)\n",
        "\n",
        "chain = (\n",
        "    {\"context\": retriever | format_docs, \"question\": RunnablePassthrough()} | # feature engineering (retrieval augmentation)\n",
        "    prompt | # препроцессинг (prompt engineering)\n",
        "    llm | # модель\n",
        "    StrOutputParser() # постпроцессинг\n",
        ")"
      ]
    },
    {
      "cell_type": "code",
      "execution_count": 24,
      "metadata": {
        "colab": {
          "base_uri": "https://localhost:8080/",
          "height": 905
        },
        "id": "XoyGeVBK7rKU",
        "outputId": "75f88e1d-63d1-4d72-fa76-85625e4cbc90"
      },
      "outputs": [
        {
          "name": "stderr",
          "output_type": "stream",
          "text": [
            "/usr/local/lib/python3.10/dist-packages/transformers/generation/configuration_utils.py:628: UserWarning: `do_sample` is set to `False`. However, `temperature` is set to `0.9` -- this flag is only used in sample-based generation modes. You should set `do_sample=True` or unset `temperature`.\n",
            "  warnings.warn(\n",
            "/usr/local/lib/python3.10/dist-packages/transformers/generation/configuration_utils.py:633: UserWarning: `do_sample` is set to `False`. However, `top_p` is set to `0.6` -- this flag is only used in sample-based generation modes. You should set `do_sample=True` or unset `top_p`.\n",
            "  warnings.warn(\n",
            "/usr/local/lib/python3.10/dist-packages/bitsandbytes/nn/modules.py:451: UserWarning: Input type into Linear4bit is torch.float16, but bnb_4bit_compute_dtype=torch.float32 (default). This will lead to slow inference or training speed.\n",
            "  warnings.warn(\n"
          ]
        },
        {
          "data": {
            "application/vnd.google.colaboratory.intrinsic+json": {
              "type": "string"
            },
            "text/plain": [
              "'<s>A chat between a curious user and an artificial intelligence assistant. The assistant gives helpful, detailed, and polite answers to the user\\'s questions.\\n\\nYour role here is specific: you are a doctor which knows everything about diseases, illnesses and medical stuff. You should answer USER questions about diseases, treatment and other questions concerning health. Use the following context from USER to answer questions. Question is the last sentence of USER\\'s query and goes after words \"Main Question: \". Be as detailed as possible, but don\\'t make up any information that\\'s not from the context. If you don\\'t know an answer, say you don\\'t know.\\n\\nUSER: venovenous extracorporeal membrane oxygenation ecmo is increasingly used in patients with respiratory failure who fail CT postoperative pneumonia is the most common infection LT imipenem is frequently used for empirical treatment of NP in the intensive ECU nevertheless few data are available on the impact of ecmo on pharmacokinetics and no data on imipenem dosing during ecmo currently no guidelines exist for antibiotic dosing during ecmo support we report the cases of patients supported with venovenous ecmo for refractory acute respiratory distress syndrome following single lung transplantation for PF treated empirically with g of imipenem intravenously every h enterobacter cloacae was isolated from the respiratory sample of patient and klebsiella pneumoniae was isolated from the respiratory sample of patient MICs of the isolated strains were and mgl respectively both patients were still alive on day this is the first report to our knowledge of imipenem concentrations in lung transplantation patients supported with ecmo this study confirms high variability in imipenem trough concentrations in patients on ecmo and with preserved renal CF an elevated dosing regimen g h is more likely to optimize drug exposure and TDM is recommended where available PPK studies are indicated to develop evidencebased dosing guidelines for ecmo patients\\n\\nvenovenous extracorporeal membrane oxygenation ecmo is increasingly used in patients with respiratory failure who fail CT postoperative pneumonia is the most common infection LT imipenem is frequently used for empirical treatment of NP in the intensive ECU nevertheless few data are available on the impact of ecmo on pharmacokinetics and no data on imipenem dosing during ecmo currently no guidelines exist for antibiotic dosing during ecmo support we report the cases of patients supported with venovenous ecmo for refractory acute respiratory distress syndrome following single lung transplantation for PF treated empirically with g of imipenem intravenously every h enterobacter cloacae was isolated from the respiratory sample of patient and klebsiella pneumoniae was isolated from the respiratory sample of patient MICs of the isolated strains were and mgl respectively both patients were still alive on day this is the first report to our knowledge of imipenem concentrations in lung transplantation patients supported with ecmo this study confirms high variability in imipenem trough concentrations in patients on ecmo and with preserved renal CF an elevated dosing regimen g h is more likely to optimize drug exposure and TDM is recommended where available PPK studies are indicated to develop evidencebased dosing guidelines for ecmo patients\\n\\nceftobiprole bpr is an investigational cephalosporin with activity against staphylococcus aureus including methicillinresistant s aureus mrsa strains the pharmacodynamic pd profile of bpr against s aureus strains with a variety of susceptibility phenotypes in an immunocompromised murine pneumonia model was characterized the bpr mics of the test isolates ranged from to mugml pharmacokinetic pk studies were conducted with infected neutropenic balbc mice and the bpr concentrations were measured in plasma epithelial lining fluid elf and lung tissue pd studies with these mice were undertaken with eight s aureus isolates two MSSA strains three hospitalacquired mrsa strains and three CA mrsa strains subcutaneous bpr doses of to mgkg of body weightday were administered and the NC in the number of log cfuml in lungs was evaluated after h of therapy the pd profile was characterized by using the free drug exposures f determined from the following parameters the percentage of time that the concentration was greater than the mic t mic the Cmax in serummic and the area under the concentrationtime curvemic the bpr pk parameters were linear over the dose range studied in plasma and the elf concentrations ranged from to of the free plasma concentration ft mic was the parameter that best correlated with tau against a diverse array of s aureus isolates in this mu pneumonia model the effective dose ed ed and stasis exposures appeared to be similar among the isolates studied bpr exerted maximal antibacterial effects when ft mic ranged from to regardless of the phenotypic profile of resistance to betalactam fluoroquinolone erythromycin clindamycin or TCs\\n\\nceftobiprole bpr is an investigational cephalosporin with activity against staphylococcus aureus including methicillinresistant s aureus mrsa strains the pharmacodynamic pd profile of bpr against s aureus strains with a variety of susceptibility phenotypes in an immunocompromised murine pneumonia model was characterized the bpr mics of the test isolates ranged from to mugml pharmacokinetic pk studies were conducted with infected neutropenic balbc mice and the bpr concentrations were measured in plasma epithelial lining fluid elf and lung tissue pd studies with these mice were undertaken with eight s aureus isolates two MSSA strains three hospitalacquired mrsa strains and three CA mrsa strains subcutaneous bpr doses of to mgkg of body weightday were administered and the NC in the number of log cfuml in lungs was evaluated after h of therapy the pd profile was characterized by using the free drug exposures f determined from the following parameters the percentage of time that the concentration was greater than the mic t mic the Cmax in serummic and the area under the concentrationtime curvemic the bpr pk parameters were linear over the dose range studied in plasma and the elf concentrations ranged from to of the free plasma concentration ft mic was the parameter that best correlated with tau against a diverse array of s aureus isolates in this mu pneumonia model the effective dose ed ed and stasis exposures appeared to be similar among the isolates studied bpr exerted maximal antibacterial effects when ft mic ranged from to regardless of the phenotypic profile of resistance to betalactam fluoroquinolone erythromycin clindamycin or TCs. Main Question: How to treat pneumonia?\\nASSISTANT: The treatment of pneumonia depends on the underlying cause, severity of the disease, and the patient\\'s overall health status. In general, antibiotics are the mainstay of treatment for bacterial pneumonia. The choice of antibiotic depends on the suspected bacterial pathogen and the patient\\'s medical history. In cases of severe or refractory pneumonia, hospitalization and intensive care may be necessary. Supportive care, such as oxygen therapy and fluid replacement, may also be required. In some cases, surgical intervention may be necessary to remove any obstructions or to repair damaged lung tissue. It is important to follow the treatment plan prescribed by a healthcare provider and to complete the full course of antibiotics, even if symptoms improve before the medication is finished.'"
            ]
          },
          "execution_count": 24,
          "metadata": {},
          "output_type": "execute_result"
        }
      ],
      "source": [
        "chain.invoke('How to treat pneumonia?')"
      ]
    },
    {
      "cell_type": "markdown",
      "metadata": {
        "id": "fZujz9RcWIDK"
      },
      "source": [
        "Видно, что нашелся довольно релевантный документ (в нем хотя бы речь про пневмонию), при этом ответ модели тоже осмысленный и содержит нужную информацию"
      ]
    },
    {
      "cell_type": "code",
      "execution_count": 25,
      "metadata": {
        "colab": {
          "base_uri": "https://localhost:8080/",
          "height": 226
        },
        "id": "D9q4JYMrjIIW",
        "outputId": "4c234a98-1512-4d3c-fcc6-266600039af1"
      },
      "outputs": [
        {
          "name": "stderr",
          "output_type": "stream",
          "text": [
            "/usr/local/lib/python3.10/dist-packages/transformers/generation/configuration_utils.py:628: UserWarning: `do_sample` is set to `False`. However, `temperature` is set to `0.9` -- this flag is only used in sample-based generation modes. You should set `do_sample=True` or unset `temperature`.\n",
            "  warnings.warn(\n",
            "/usr/local/lib/python3.10/dist-packages/transformers/generation/configuration_utils.py:633: UserWarning: `do_sample` is set to `False`. However, `top_p` is set to `0.6` -- this flag is only used in sample-based generation modes. You should set `do_sample=True` or unset `top_p`.\n",
            "  warnings.warn(\n"
          ]
        },
        {
          "data": {
            "application/vnd.google.colaboratory.intrinsic+json": {
              "type": "string"
            },
            "text/plain": [
              "'<s>A chat between a curious user and an artificial intelligence assistant. The assistant gives helpful, detailed, and polite answers to the user\\'s questions.\\n\\nYour role here is specific: you are a doctor which knows everything about diseases, illnesses and medical stuff. You should answer USER questions about diseases, treatment and other questions concerning health. Use the following context from USER to answer questions. Question is the last sentence of USER\\'s query and goes after words \"Main Question: \". Be as detailed as possible, but don\\'t make up any information that\\'s not from the context. If you don\\'t know an answer, say you don\\'t know.\\n\\nUSER: ceftobiprole bpr is an investigational cephalosporin with activity against staphylococcus aureus including methicillinresistant s aureus mrsa strains the pharmacodynamic pd profile of bpr against s aureus strains with a variety of susceptibility phenotypes in an immunocompromised murine pneumonia model was characterized the bpr mics of the test isolates ranged from to mugml pharmacokinetic pk studies were conducted with infected neutropenic balbc mice and the bpr concentrations were measured in plasma epithelial lining fluid elf and lung tissue pd studies with these mice were undertaken with eight s aureus isolates two MSSA strains three hospitalacquired mrsa strains and three CA mrsa strains subcutaneous bpr doses of to mgkg of body weightday were administered and the NC in the number of log cfuml in lungs was evaluated after h of therapy the pd profile was characterized by using the free drug exposures f determined from the following parameters the percentage of time that the concentration was greater than the mic t mic the Cmax in serummic and the area under the concentrationtime curvemic the bpr pk parameters were linear over the dose range studied in plasma and the elf concentrations ranged from to of the free plasma concentration ft mic was the parameter that best correlated with tau against a diverse array of s aureus isolates in this mu pneumonia model the effective dose ed ed and stasis exposures appeared to be similar among the isolates studied bpr exerted maximal antibacterial effects when ft mic ranged from to regardless of the phenotypic profile of resistance to betalactam fluoroquinolone erythromycin clindamycin or TCs\\n\\nceftobiprole bpr is an investigational cephalosporin with activity against staphylococcus aureus including methicillinresistant s aureus mrsa strains the pharmacodynamic pd profile of bpr against s aureus strains with a variety of susceptibility phenotypes in an immunocompromised murine pneumonia model was characterized the bpr mics of the test isolates ranged from to mugml pharmacokinetic pk studies were conducted with infected neutropenic balbc mice and the bpr concentrations were measured in plasma epithelial lining fluid elf and lung tissue pd studies with these mice were undertaken with eight s aureus isolates two MSSA strains three hospitalacquired mrsa strains and three CA mrsa strains subcutaneous bpr doses of to mgkg of body weightday were administered and the NC in the number of log cfuml in lungs was evaluated after h of therapy the pd profile was characterized by using the free drug exposures f determined from the following parameters the percentage of time that the concentration was greater than the mic t mic the Cmax in serummic and the area under the concentrationtime curvemic the bpr pk parameters were linear over the dose range studied in plasma and the elf concentrations ranged from to of the free plasma concentration ft mic was the parameter that best correlated with tau against a diverse array of s aureus isolates in this mu pneumonia model the effective dose ed ed and stasis exposures appeared to be similar among the isolates studied bpr exerted maximal antibacterial effects when ft mic ranged from to regardless of the phenotypic profile of resistance to betalactam fluoroquinolone erythromycin clindamycin or TCs\\n\\nBL treatment is the most potent melatonin suppressor and circadian phase shifter and is a safe nonpharmacologic antidepressant for seasonal depression in addition BL treatment may restore performance in conditions of sleep debt and misalignment between peak performance and the athletic event this article discusses the therapeutic use of bright CS treatment its side effects and mechanisms of action\\n\\nBL treatment is the most potent melatonin suppressor and circadian phase shifter and is a safe nonpharmacologic antidepressant for seasonal depression in addition BL treatment may restore performance in conditions of sleep debt and misalignment between peak performance and the athletic event this article discusses the therapeutic use of bright CS treatment its side effects and mechanisms of action. Main Question: Tell in details what is ceftobiprole bpr?\\nASSISTANT: Ceftobiprole bpr is an investigational cephalosporin antibiotic that has been shown to have activity against various strains of Staphylococcus aureus, including methicillin-resistant S. aureus (MRSA) strains. In a murine pneumonia model, the pharmacodynamic profile of ceftobiprole was characterized against a variety of S. aureus strains with different levels of susceptibility. The results showed that the antibacterial effects of ceftobiprole were maximized when the free drug exposure (ft mic) ranged from 0.5 to 1 µg/mL, regardless of the phenotypic profile of resistance to beta-lactams, fluoroquinolones, erythromycin, clindamycin, or tetracyclines. The ph'"
            ]
          },
          "execution_count": 25,
          "metadata": {},
          "output_type": "execute_result"
        }
      ],
      "source": [
        "invoked = chain.invoke('Tell in details what is ceftobiprole bpr?')\n",
        "invoked"
      ]
    },
    {
      "cell_type": "code",
      "execution_count": 26,
      "metadata": {
        "colab": {
          "base_uri": "https://localhost:8080/",
          "height": 93
        },
        "id": "jxTWbrh2Wgb9",
        "outputId": "9d29f464-44b2-43b0-a56e-6cf26a2f7e2f"
      },
      "outputs": [
        {
          "data": {
            "application/vnd.google.colaboratory.intrinsic+json": {
              "type": "string"
            },
            "text/plain": [
              "'ASSISTANT: Ceftobiprole bpr is an investigational cephalosporin antibiotic that has been shown to have activity against various strains of Staphylococcus aureus, including methicillin-resistant S. aureus (MRSA) strains. In a murine pneumonia model, the pharmacodynamic profile of ceftobiprole was characterized against a variety of S. aureus strains with different levels of susceptibility. The results showed that the antibacterial effects of ceftobiprole were maximized when the free drug exposure (ft mic) ranged from 0.5 to 1 µg/mL, regardless of the phenotypic profile of resistance to beta-lactams, fluoroquinolones, erythromycin, clindamycin, or tetracyclines. The ph'"
            ]
          },
          "execution_count": 26,
          "metadata": {},
          "output_type": "execute_result"
        }
      ],
      "source": [
        "invoked[invoked.find('ASSISTANT:'):] # это ответ модели"
      ]
    },
    {
      "cell_type": "code",
      "execution_count": 27,
      "metadata": {
        "colab": {
          "base_uri": "https://localhost:8080/",
          "height": 131
        },
        "id": "lT8h57mrZyGV",
        "outputId": "70edc779-cf12-42c0-9491-1bc42f2613d9"
      },
      "outputs": [
        {
          "data": {
            "application/vnd.google.colaboratory.intrinsic+json": {
              "type": "string"
            },
            "text/plain": [
              "'USER: ceftobiprole bpr is an investigational cephalosporin with activity against staphylococcus aureus including methicillinresistant s aureus mrsa strains the pharmacodynamic pd profile of bpr against s aureus strains with a variety of susceptibility phenotypes in an immunocompromised murine pneumonia model was characterized the bpr mics of the test isolates ranged from to mugml pharmacokinetic pk studies were conducted with infected neutropenic balbc mice and the bpr concentrations were measured in plasma epithelial lining fluid elf and lung tissue pd studies with these mice were undertaken with eight s aureus isolates two MSSA strains three hospitalacquired mrsa strains and three CA mrsa strains subcutaneous bpr doses of to mgkg of body weightday were administered and the NC in the number of log cfuml in lungs was evaluated after h of therapy the pd profile was characterized by using the free drug exposures f determined from the following parameters the percentage of time that the c'"
            ]
          },
          "execution_count": 27,
          "metadata": {},
          "output_type": "execute_result"
        }
      ],
      "source": [
        "invoked[invoked.find('USER:'):invoked.find('USER:')+1000] # это часть контекста из ретривера"
      ]
    },
    {
      "cell_type": "markdown",
      "metadata": {
        "id": "voT5veBTCzpZ"
      },
      "source": [
        "### Добавим в пайплайн историю переписки с ботом"
      ]
    },
    {
      "cell_type": "markdown",
      "metadata": {
        "id": "OfXNJMC2KxxY"
      },
      "source": [
        "По-хорошему, можно использовать ConversationBufferMemory (но, спойлер, так не вышло)"
      ]
    },
    {
      "cell_type": "code",
      "execution_count": 28,
      "metadata": {
        "colab": {
          "base_uri": "https://localhost:8080/"
        },
        "id": "ZcShzih_mcCc",
        "outputId": "1a3835e5-f827-439c-ba66-a8dfd42e98fa"
      },
      "outputs": [
        {
          "name": "stderr",
          "output_type": "stream",
          "text": [
            "<ipython-input-28-52439ae30aa4>:4: LangChainDeprecationWarning: Please see the migration guide at: https://python.langchain.com/docs/versions/migrating_memory/\n",
            "  memory = ConversationBufferMemory()\n"
          ]
        },
        {
          "data": {
            "text/plain": [
              "{'history': 'Human: hi!\\nAI: hello my friend!'}"
            ]
          },
          "execution_count": 28,
          "metadata": {},
          "output_type": "execute_result"
        }
      ],
      "source": [
        "from langchain.memory import ConversationBufferMemory\n",
        "from langchain.chains import ConversationChain\n",
        "\n",
        "memory = ConversationBufferMemory()\n",
        "memory.chat_memory.add_user_message(\"hi!\")\n",
        "memory.chat_memory.add_ai_message(\"hello my friend!\")\n",
        "memory.load_memory_variables({})"
      ]
    },
    {
      "cell_type": "markdown",
      "metadata": {
        "id": "BohcZamcuBdc"
      },
      "source": [
        "Тут были эксперименты с ConversationalRetrievalChain, но так сделать не вышло, поэтому удалили. Искали доки и примеры, но ничего не завелось, сделаем по-другому:"
      ]
    },
    {
      "cell_type": "markdown",
      "metadata": {
        "id": "rSf0EadNJzqS"
      },
      "source": [
        "Переопределим промпт, чтобы использовалась история диалога"
      ]
    },
    {
      "cell_type": "code",
      "execution_count": 29,
      "metadata": {
        "colab": {
          "base_uri": "https://localhost:8080/"
        },
        "id": "4tzeerM1dsif",
        "outputId": "9f14f5f2-765e-4a32-d8dd-f29e367ab74e"
      },
      "outputs": [
        {
          "data": {
            "text/plain": [
              "PromptTemplate(input_variables=['chat_history', 'context'], input_types={}, partial_variables={'SYSTEM_PROMPT': \"A chat between a curious user and an artificial intelligence assistant. The assistant gives helpful, detailed, and polite answers to the user's questions.\", 'instruction': 'Your role here is specific: you are a doctor which knows everything about diseases, illnesses and medical stuff. You should answer USER questions about diseases, treatment and other questions concerning health. Use the following context from USER to answer questions. Question is the last USER\\'s query. A relevant document is given above and goes after words \"DOCUMENT: \". Try to use this information in your answer. After the \"DOCUMENT: \" and the body of the document you are given a chat history - conversation with USER. Answer the last USER\\'s question. Be as detailed as possible, but don\\'t make up any information that\\'s not from the context. If you don\\'t know an answer, say you don\\'t know.'}, template='<s>{SYSTEM_PROMPT}\\n\\n{instruction}\\n\\nDOCUMENT: {context}\\n\\n{chat_history}\\nASSISTANT:')"
            ]
          },
          "execution_count": 29,
          "metadata": {},
          "output_type": "execute_result"
        }
      ],
      "source": [
        "from langchain.prompts import PromptTemplate\n",
        "\n",
        "\n",
        "SYSTEM_PROMPT = \"\"\"A chat between a curious user and an artificial intelligence assistant.\n",
        "The assistant gives helpful, detailed, and polite answers to the user's questions.\"\"\"\n",
        "SYSTEM_PROMPT = ' '.join(SYSTEM_PROMPT.split('\\n'))\n",
        "\n",
        "USE_HISTORY = True\n",
        "if USE_HISTORY:\n",
        "    # это если у нас есть история диалога\n",
        "    instruction = '''Your role here is specific: you are a doctor which knows everything about diseases, illnesses and medical stuff.\n",
        "You should answer USER questions about diseases, treatment and other questions concerning health.\n",
        "Use the following context from USER to answer questions. Question is the last USER's query.\n",
        "A relevant document is given above and goes after words \"DOCUMENT: \". Try to use this information in your answer.\n",
        "After the \"DOCUMENT: \" and the body of the document you are given a chat history - conversation with USER. Answer the last USER's question.\n",
        "Be as detailed as possible, but don't make up any information that's not from the context.\n",
        "If you don't know an answer, say you don't know.'''\n",
        "    instruction = ' '.join(instruction.split('\\n'))\n",
        "    prompt_template = '''<s>{SYSTEM_PROMPT}\n",
        "\n",
        "{instruction}\n",
        "\n",
        "DOCUMENT: {context}\n",
        "\n",
        "{chat_history}\n",
        "ASSISTANT:'''\n",
        "    prompt = PromptTemplate(input_variables=['context', 'chat_history'],\n",
        "                            partial_variables={\"SYSTEM_PROMPT\": SYSTEM_PROMPT, \"instruction\": instruction},\n",
        "                            template=prompt_template)\n",
        "else:\n",
        "    instruction = '''Your role here is specific: you are a doctor which knows everything about diseases, illnesses and medical stuff.\n",
        "You should answer USER questions about diseases, treatment and other questions concerning health.\n",
        "Use the following context from USER to answer questions. Question is the last sentence of USER's query and goes after words \"Main Question: \".\n",
        "Be as detailed as possible, but don't make up any information that's not from the context.\n",
        "If you don't know an answer, say you don't know.'''\n",
        "    instruction = ' '.join(instruction.split('\\n'))\n",
        "    prompt_template = '''<s>{SYSTEM_PROMPT}\n",
        "\n",
        "{instruction}\n",
        "\n",
        "USER: {context}. Main Question: {question}\n",
        "ASSISTANT:'''                             # тут документ запихнули в первую реплику пользователя - это один из методов\n",
        "    prompt = PromptTemplate(input_variables=[\"context\", 'question'],\n",
        "                            partial_variables={\"SYSTEM_PROMPT\": SYSTEM_PROMPT, \"instruction\": instruction},\n",
        "                            template=prompt_template)\n",
        "prompt"
      ]
    },
    {
      "cell_type": "code",
      "execution_count": 35,
      "metadata": {
        "colab": {
          "base_uri": "https://localhost:8080/"
        },
        "id": "QRB7uh7kmGrv",
        "outputId": "37c236e7-89c3-4864-ac66-89c26a979645"
      },
      "outputs": [
        {
          "name": "stderr",
          "output_type": "stream",
          "text": [
            "/usr/local/lib/python3.10/dist-packages/transformers/generation/configuration_utils.py:628: UserWarning: `do_sample` is set to `False`. However, `temperature` is set to `0.9` -- this flag is only used in sample-based generation modes. You should set `do_sample=True` or unset `temperature`.\n",
            "  warnings.warn(\n",
            "/usr/local/lib/python3.10/dist-packages/transformers/generation/configuration_utils.py:633: UserWarning: `do_sample` is set to `False`. However, `top_p` is set to `0.6` -- this flag is only used in sample-based generation modes. You should set `do_sample=True` or unset `top_p`.\n",
            "  warnings.warn(\n"
          ]
        }
      ],
      "source": [
        "class InMemoryHistory:\n",
        "    def __init__(self):\n",
        "        self.messages = []\n",
        "\n",
        "    def add_message(self, message):\n",
        "        \"\"\"Add a single message to the history.\"\"\"\n",
        "        self.messages.append(message)\n",
        "\n",
        "    def format_history(self):\n",
        "        \"\"\"Format the history with special tokens.\"\"\"\n",
        "        return \"\\n\".join(self.messages)\n",
        "\n",
        "chat_history = InMemoryHistory()\n",
        "\n",
        "chain = (\n",
        "    {\"context\": retriever | format_docs, \"chat_history\": RunnablePassthrough()} | # feature engineering (retrieval augmentation)\n",
        "    prompt | # препроцессинг (prompt engineering)\n",
        "    llm | # модель\n",
        "    StrOutputParser() # постпроцессинг\n",
        ")\n",
        "\n",
        "question = 'What is pneumania?'\n",
        "chat_history.add_message(f\"USER: {question}\")\n",
        "formatted_history = chat_history.format_history()\n",
        "LLM_out = chain.invoke(formatted_history)\n",
        "chat_history.add_message(f\"{LLM_out[LLM_out.find('ASSISTANT: '): ]}\")"
      ]
    },
    {
      "cell_type": "code",
      "execution_count": 36,
      "metadata": {
        "colab": {
          "base_uri": "https://localhost:8080/",
          "height": 131
        },
        "id": "SLUhoKvenPtp",
        "outputId": "7b46d539-dfdc-457a-ea33-8159bb411982"
      },
      "outputs": [
        {
          "data": {
            "application/vnd.google.colaboratory.intrinsic+json": {
              "type": "string"
            },
            "text/plain": [
              "'<s>A chat between a curious user and an artificial intelligence assistant. The assistant gives helpful, detailed, and polite answers to the user\\'s questions.\\n\\nYour role here is specific: you are a doctor which knows everything about diseases, illnesses and medical stuff. You should answer USER questions about diseases, treatment and other questions concerning health. Use the following context from USER to answer questions. Question is the last USER\\'s query. A relevant document is given above and goes after words \"DOCUMENT: \". Try to use this information in your answer. After the \"DOCUMENT: \" and the body of the document you are given a chat history - conversation with USER. Answer the last USER\\'s question. Be as detailed as possible, but don\\'t make up any information that\\'s not from the context. If you don\\'t know an answer, say you don\\'t know.\\n\\nDOCUMENT: legionnaires disease is a modern environmental infectious disease it stems from the capacity of the causative agent legionella to multiply within amoebae in warm water and the use during the th century of devices that maintain water at warm temperatures and produce aerosols when contaminated with legionella aerosols consisting of respirable droplets place the bacteria in juxtaposition with alveolar macrophages which as with amoebae they may parasitize resulting in illness in susceptible persons the disease is much more common than previously appreciated with at least cases estimated to occur per year in the united states based on prospective studies two highly specific tests urinary antigen detection and sputum SC are available for diagnosis during illness with to sensitivity urinary antigen tests rapidly detect antigens of legionella SG which are responsible for of the cases of legionnaires disease results can be available within a few hours culture of sputum is to CS but several days are required for growth and many patients do not produce sputum serologic testing although useful for epidemiologic studies when convalescentphase antibody titers can be compared with acutephase titers is not helpful for clinical decision making because of the low positive predictive value of commercially available acutephase serologic tests erythromycins intravenous azithromycin and levofloxacin are currently approved by the us food and drug administration for treatment of legionnaires disease however clarithromycin and several other fluoroquinolones are active against legionella and may also provide ERP therapy recent recommendations from the CDC and preventions hospital IC practices advisory committee should be helpful in reducing nosocomial legionnaires disease recommendations are in place or are being developed to minimize the risk of disease in a variety of other settings\\n\\nlegionnaires disease is a modern environmental infectious disease it stems from the capacity of the causative agent legionella to multiply within amoebae in warm water and the use during the th century of devices that maintain water at warm temperatures and produce aerosols when contaminated with legionella aerosols consisting of respirable droplets place the bacteria in juxtaposition with alveolar macrophages which as with amoebae they may parasitize resulting in illness in susceptible persons the disease is much more common than previously appreciated with at least cases estimated to occur per year in the united states based on prospective studies two highly specific tests urinary antigen detection and sputum SC are available for diagnosis during illness with to sensitivity urinary antigen tests rapidly detect antigens of legionella SG which are responsible for of the cases of legionnaires disease results can be available within a few hours culture of sputum is to CS but several days are required for growth and many patients do not produce sputum serologic testing although useful for epidemiologic studies when convalescentphase antibody titers can be compared with acutephase titers is not helpful for clinical decision making because of the low positive predictive value of commercially available acutephase serologic tests erythromycins intravenous azithromycin and levofloxacin are currently approved by the us food and drug administration for treatment of legionnaires disease however clarithromycin and several other fluoroquinolones are active against legionella and may also provide ERP therapy recent recommendations from the CDC and preventions hospital IC practices advisory committee should be helpful in reducing nosocomial legionnaires disease recommendations are in place or are being developed to minimize the risk of disease in a variety of other settings\\n\\nceftobiprole bpr is an investigational cephalosporin with activity against staphylococcus aureus including methicillinresistant s aureus mrsa strains the pharmacodynamic pd profile of bpr against s aureus strains with a variety of susceptibility phenotypes in an immunocompromised murine pneumonia model was characterized the bpr mics of the test isolates ranged from to mugml pharmacokinetic pk studies were conducted with infected neutropenic balbc mice and the bpr concentrations were measured in plasma epithelial lining fluid elf and lung tissue pd studies with these mice were undertaken with eight s aureus isolates two MSSA strains three hospitalacquired mrsa strains and three CA mrsa strains subcutaneous bpr doses of to mgkg of body weightday were administered and the NC in the number of log cfuml in lungs was evaluated after h of therapy the pd profile was characterized by using the free drug exposures f determined from the following parameters the percentage of time that the concentration was greater than the mic t mic the Cmax in serummic and the area under the concentrationtime curvemic the bpr pk parameters were linear over the dose range studied in plasma and the elf concentrations ranged from to of the free plasma concentration ft mic was the parameter that best correlated with tau against a diverse array of s aureus isolates in this mu pneumonia model the effective dose ed ed and stasis exposures appeared to be similar among the isolates studied bpr exerted maximal antibacterial effects when ft mic ranged from to regardless of the phenotypic profile of resistance to betalactam fluoroquinolone erythromycin clindamycin or TCs\\n\\nceftobiprole bpr is an investigational cephalosporin with activity against staphylococcus aureus including methicillinresistant s aureus mrsa strains the pharmacodynamic pd profile of bpr against s aureus strains with a variety of susceptibility phenotypes in an immunocompromised murine pneumonia model was characterized the bpr mics of the test isolates ranged from to mugml pharmacokinetic pk studies were conducted with infected neutropenic balbc mice and the bpr concentrations were measured in plasma epithelial lining fluid elf and lung tissue pd studies with these mice were undertaken with eight s aureus isolates two MSSA strains three hospitalacquired mrsa strains and three CA mrsa strains subcutaneous bpr doses of to mgkg of body weightday were administered and the NC in the number of log cfuml in lungs was evaluated after h of therapy the pd profile was characterized by using the free drug exposures f determined from the following parameters the percentage of time that the concentration was greater than the mic t mic the Cmax in serummic and the area under the concentrationtime curvemic the bpr pk parameters were linear over the dose range studied in plasma and the elf concentrations ranged from to of the free plasma concentration ft mic was the parameter that best correlated with tau against a diverse array of s aureus isolates in this mu pneumonia model the effective dose ed ed and stasis exposures appeared to be similar among the isolates studied bpr exerted maximal antibacterial effects when ft mic ranged from to regardless of the phenotypic profile of resistance to betalactam fluoroquinolone erythromycin clindamycin or TCs\\n\\nUSER: What is pneumania?\\nASSISTANT: Pneumonia is a lung infection caused by various types of bacteria, viruses, or fungi. It can range from a mild to a severe illness, and can affect people of all ages and backgrounds. Symptoms of pneumonia can include cough, fever, chest pain, and difficulty breathing. Treatment for pneumonia depends on the underlying cause and can include antibiotics, rest, and hydration. In severe cases, hospitalization may be necessary. Prevention measures include getting vaccinated, washing hands regularly, and avoiding close contact with people who are sick.'"
            ]
          },
          "execution_count": 36,
          "metadata": {},
          "output_type": "execute_result"
        }
      ],
      "source": [
        "LLM_out"
      ]
    },
    {
      "cell_type": "code",
      "execution_count": 37,
      "metadata": {
        "colab": {
          "base_uri": "https://localhost:8080/"
        },
        "id": "R-72DFGuqYbC",
        "outputId": "71017d71-6c60-4dc3-80c1-bd9cafcdae09"
      },
      "outputs": [
        {
          "name": "stderr",
          "output_type": "stream",
          "text": [
            "/usr/local/lib/python3.10/dist-packages/transformers/generation/configuration_utils.py:628: UserWarning: `do_sample` is set to `False`. However, `temperature` is set to `0.9` -- this flag is only used in sample-based generation modes. You should set `do_sample=True` or unset `temperature`.\n",
            "  warnings.warn(\n",
            "/usr/local/lib/python3.10/dist-packages/transformers/generation/configuration_utils.py:633: UserWarning: `do_sample` is set to `False`. However, `top_p` is set to `0.6` -- this flag is only used in sample-based generation modes. You should set `do_sample=True` or unset `top_p`.\n",
            "  warnings.warn(\n"
          ]
        }
      ],
      "source": [
        "question = 'How to treat it?'\n",
        "chat_history.add_message(f\"USER: {question}\")\n",
        "formatted_history = chat_history.format_history()\n",
        "LLM_out = chain.invoke(formatted_history)\n",
        "chat_history.add_message(f\"{LLM_out[LLM_out.find('ASSISTANT: '): ]}\")"
      ]
    },
    {
      "cell_type": "code",
      "execution_count": 38,
      "metadata": {
        "colab": {
          "base_uri": "https://localhost:8080/",
          "height": 131
        },
        "id": "fvmaWmU4qsmj",
        "outputId": "f95d95e9-9e2a-442c-f40b-47fd64b73c60"
      },
      "outputs": [
        {
          "data": {
            "application/vnd.google.colaboratory.intrinsic+json": {
              "type": "string"
            },
            "text/plain": [
              "'<s>A chat between a curious user and an artificial intelligence assistant. The assistant gives helpful, detailed, and polite answers to the user\\'s questions.\\n\\nYour role here is specific: you are a doctor which knows everything about diseases, illnesses and medical stuff. You should answer USER questions about diseases, treatment and other questions concerning health. Use the following context from USER to answer questions. Question is the last USER\\'s query. A relevant document is given above and goes after words \"DOCUMENT: \". Try to use this information in your answer. After the \"DOCUMENT: \" and the body of the document you are given a chat history - conversation with USER. Answer the last USER\\'s question. Be as detailed as possible, but don\\'t make up any information that\\'s not from the context. If you don\\'t know an answer, say you don\\'t know.\\n\\nDOCUMENT: legionnaires disease is a modern environmental infectious disease it stems from the capacity of the causative agent legionella to multiply within amoebae in warm water and the use during the th century of devices that maintain water at warm temperatures and produce aerosols when contaminated with legionella aerosols consisting of respirable droplets place the bacteria in juxtaposition with alveolar macrophages which as with amoebae they may parasitize resulting in illness in susceptible persons the disease is much more common than previously appreciated with at least cases estimated to occur per year in the united states based on prospective studies two highly specific tests urinary antigen detection and sputum SC are available for diagnosis during illness with to sensitivity urinary antigen tests rapidly detect antigens of legionella SG which are responsible for of the cases of legionnaires disease results can be available within a few hours culture of sputum is to CS but several days are required for growth and many patients do not produce sputum serologic testing although useful for epidemiologic studies when convalescentphase antibody titers can be compared with acutephase titers is not helpful for clinical decision making because of the low positive predictive value of commercially available acutephase serologic tests erythromycins intravenous azithromycin and levofloxacin are currently approved by the us food and drug administration for treatment of legionnaires disease however clarithromycin and several other fluoroquinolones are active against legionella and may also provide ERP therapy recent recommendations from the CDC and preventions hospital IC practices advisory committee should be helpful in reducing nosocomial legionnaires disease recommendations are in place or are being developed to minimize the risk of disease in a variety of other settings\\n\\nlegionnaires disease is a modern environmental infectious disease it stems from the capacity of the causative agent legionella to multiply within amoebae in warm water and the use during the th century of devices that maintain water at warm temperatures and produce aerosols when contaminated with legionella aerosols consisting of respirable droplets place the bacteria in juxtaposition with alveolar macrophages which as with amoebae they may parasitize resulting in illness in susceptible persons the disease is much more common than previously appreciated with at least cases estimated to occur per year in the united states based on prospective studies two highly specific tests urinary antigen detection and sputum SC are available for diagnosis during illness with to sensitivity urinary antigen tests rapidly detect antigens of legionella SG which are responsible for of the cases of legionnaires disease results can be available within a few hours culture of sputum is to CS but several days are required for growth and many patients do not produce sputum serologic testing although useful for epidemiologic studies when convalescentphase antibody titers can be compared with acutephase titers is not helpful for clinical decision making because of the low positive predictive value of commercially available acutephase serologic tests erythromycins intravenous azithromycin and levofloxacin are currently approved by the us food and drug administration for treatment of legionnaires disease however clarithromycin and several other fluoroquinolones are active against legionella and may also provide ERP therapy recent recommendations from the CDC and preventions hospital IC practices advisory committee should be helpful in reducing nosocomial legionnaires disease recommendations are in place or are being developed to minimize the risk of disease in a variety of other settings\\n\\nleptospirosis is a worldwide zoonosis and common in tropical and subtropical Az with high rainfall it should be noted as an imported infectious disease although it is sporadic in japan some imported cases already have been reported in japan and these cases occurred mainly in SEA the case discussed in this article is the first reported japanese case INF in vietnam four days after returning back to japan after a twoweek stay in the mountain area near hue in the middle part of vietnam the patient suddenly experienced chills a high fever sore throat gastrocnemius pain and HA conjunctival jaundice renal CF disorder and proteinuria were observed on the third day of onset significant increase in antibody titers against serovar australis and autumnalis strains was observed in paired serum samples by MAT mat consequently we recognized this case as a diagnosis of severe leptospirosis weils disease finally renal CF disorder did not deteriorate further and then the patient recovered T3 the tenth day of onset with the administration of antibiotics and supportive care without sequelae we experienced the first imported japanese case of severe human leptospirosis infection from vietnam that was successfully treated with ceftriaxone and minocycline\\n\\nleptospirosis is a worldwide zoonosis and common in tropical and subtropical Az with high rainfall it should be noted as an imported infectious disease although it is sporadic in japan some imported cases already have been reported in japan and these cases occurred mainly in SEA the case discussed in this article is the first reported japanese case INF in vietnam four days after returning back to japan after a twoweek stay in the mountain area near hue in the middle part of vietnam the patient suddenly experienced chills a high fever sore throat gastrocnemius pain and HA conjunctival jaundice renal CF disorder and proteinuria were observed on the third day of onset significant increase in antibody titers against serovar australis and autumnalis strains was observed in paired serum samples by MAT mat consequently we recognized this case as a diagnosis of severe leptospirosis weils disease finally renal CF disorder did not deteriorate further and then the patient recovered T3 the tenth day of onset with the administration of antibiotics and supportive care without sequelae we experienced the first imported japanese case of severe human leptospirosis infection from vietnam that was successfully treated with ceftriaxone and minocycline\\n\\nUSER: What is pneumania?\\nASSISTANT: Pneumonia is a lung infection caused by various types of bacteria, viruses, or fungi. It can range from a mild to a severe illness, and can affect people of all ages and backgrounds. Symptoms of pneumonia can include cough, fever, chest pain, and difficulty breathing. Treatment for pneumonia depends on the underlying cause and can include antibiotics, rest, and hydration. In severe cases, hospitalization may be necessary. Prevention measures include getting vaccinated, washing hands regularly, and avoiding close contact with people who are sick.\\nUSER: How to treat it?\\nASSISTANT: The treatment for pneumonia depends on the underlying cause and the severity of the illness. For bacterial pneumonia, antibiotics are typically prescribed. The type of antibiotic prescribed will depend on the specific bacteria causing the infection. For viral pneumonia, antibiotics are not effective and treatment focuses on managing symptoms and providing supportive care. This may include rest, hydration, and over-the-counter medications such as pain relievers and cough suppressants. In severe cases, hospitalization may be necessary for further treatment and monitoring. It is important to follow the treatment plan prescribed by a healthcare provider and complete the full course of antibiotics, even if symptoms improve before the medication is finished.'"
            ]
          },
          "execution_count": 38,
          "metadata": {},
          "output_type": "execute_result"
        }
      ],
      "source": [
        "LLM_out"
      ]
    },
    {
      "cell_type": "code",
      "execution_count": 39,
      "metadata": {
        "colab": {
          "base_uri": "https://localhost:8080/"
        },
        "id": "HCo1jbDZqveK",
        "outputId": "12c08a72-47c2-4afb-f2ad-74c375b60953"
      },
      "outputs": [
        {
          "name": "stderr",
          "output_type": "stream",
          "text": [
            "/usr/local/lib/python3.10/dist-packages/transformers/generation/configuration_utils.py:628: UserWarning: `do_sample` is set to `False`. However, `temperature` is set to `0.9` -- this flag is only used in sample-based generation modes. You should set `do_sample=True` or unset `temperature`.\n",
            "  warnings.warn(\n",
            "/usr/local/lib/python3.10/dist-packages/transformers/generation/configuration_utils.py:633: UserWarning: `do_sample` is set to `False`. However, `top_p` is set to `0.6` -- this flag is only used in sample-based generation modes. You should set `do_sample=True` or unset `top_p`.\n",
            "  warnings.warn(\n"
          ]
        },
        {
          "name": "stdout",
          "output_type": "stream",
          "text": [
            "<s>A chat between a curious user and an artificial intelligence assistant. The assistant gives helpful, detailed, and polite answers to the user's questions.\n",
            "\n",
            "Your role here is specific: you are a doctor which knows everything about diseases, illnesses and medical stuff. You should answer USER questions about diseases, treatment and other questions concerning health. Use the following context from USER to answer questions. Question is the last USER's query. A relevant document is given above and goes after words \"DOCUMENT: \". Try to use this information in your answer. After the \"DOCUMENT: \" and the body of the document you are given a chat history - conversation with USER. Answer the last USER's question. Be as detailed as possible, but don't make up any information that's not from the context. If you don't know an answer, say you don't know.\n",
            "\n",
            "DOCUMENT: legionnaires disease is a modern environmental infectious disease it stems from the capacity of the causative agent legionella to multiply within amoebae in warm water and the use during the th century of devices that maintain water at warm temperatures and produce aerosols when contaminated with legionella aerosols consisting of respirable droplets place the bacteria in juxtaposition with alveolar macrophages which as with amoebae they may parasitize resulting in illness in susceptible persons the disease is much more common than previously appreciated with at least cases estimated to occur per year in the united states based on prospective studies two highly specific tests urinary antigen detection and sputum SC are available for diagnosis during illness with to sensitivity urinary antigen tests rapidly detect antigens of legionella SG which are responsible for of the cases of legionnaires disease results can be available within a few hours culture of sputum is to CS but several days are required for growth and many patients do not produce sputum serologic testing although useful for epidemiologic studies when convalescentphase antibody titers can be compared with acutephase titers is not helpful for clinical decision making because of the low positive predictive value of commercially available acutephase serologic tests erythromycins intravenous azithromycin and levofloxacin are currently approved by the us food and drug administration for treatment of legionnaires disease however clarithromycin and several other fluoroquinolones are active against legionella and may also provide ERP therapy recent recommendations from the CDC and preventions hospital IC practices advisory committee should be helpful in reducing nosocomial legionnaires disease recommendations are in place or are being developed to minimize the risk of disease in a variety of other settings\n",
            "\n",
            "legionnaires disease is a modern environmental infectious disease it stems from the capacity of the causative agent legionella to multiply within amoebae in warm water and the use during the th century of devices that maintain water at warm temperatures and produce aerosols when contaminated with legionella aerosols consisting of respirable droplets place the bacteria in juxtaposition with alveolar macrophages which as with amoebae they may parasitize resulting in illness in susceptible persons the disease is much more common than previously appreciated with at least cases estimated to occur per year in the united states based on prospective studies two highly specific tests urinary antigen detection and sputum SC are available for diagnosis during illness with to sensitivity urinary antigen tests rapidly detect antigens of legionella SG which are responsible for of the cases of legionnaires disease results can be available within a few hours culture of sputum is to CS but several days are required for growth and many patients do not produce sputum serologic testing although useful for epidemiologic studies when convalescentphase antibody titers can be compared with acutephase titers is not helpful for clinical decision making because of the low positive predictive value of commercially available acutephase serologic tests erythromycins intravenous azithromycin and levofloxacin are currently approved by the us food and drug administration for treatment of legionnaires disease however clarithromycin and several other fluoroquinolones are active against legionella and may also provide ERP therapy recent recommendations from the CDC and preventions hospital IC practices advisory committee should be helpful in reducing nosocomial legionnaires disease recommendations are in place or are being developed to minimize the risk of disease in a variety of other settings\n",
            "\n",
            "ceftobiprole bpr is an investigational cephalosporin with activity against staphylococcus aureus including methicillinresistant s aureus mrsa strains the pharmacodynamic pd profile of bpr against s aureus strains with a variety of susceptibility phenotypes in an immunocompromised murine pneumonia model was characterized the bpr mics of the test isolates ranged from to mugml pharmacokinetic pk studies were conducted with infected neutropenic balbc mice and the bpr concentrations were measured in plasma epithelial lining fluid elf and lung tissue pd studies with these mice were undertaken with eight s aureus isolates two MSSA strains three hospitalacquired mrsa strains and three CA mrsa strains subcutaneous bpr doses of to mgkg of body weightday were administered and the NC in the number of log cfuml in lungs was evaluated after h of therapy the pd profile was characterized by using the free drug exposures f determined from the following parameters the percentage of time that the concentration was greater than the mic t mic the Cmax in serummic and the area under the concentrationtime curvemic the bpr pk parameters were linear over the dose range studied in plasma and the elf concentrations ranged from to of the free plasma concentration ft mic was the parameter that best correlated with tau against a diverse array of s aureus isolates in this mu pneumonia model the effective dose ed ed and stasis exposures appeared to be similar among the isolates studied bpr exerted maximal antibacterial effects when ft mic ranged from to regardless of the phenotypic profile of resistance to betalactam fluoroquinolone erythromycin clindamycin or TCs\n",
            "\n",
            "ceftobiprole bpr is an investigational cephalosporin with activity against staphylococcus aureus including methicillinresistant s aureus mrsa strains the pharmacodynamic pd profile of bpr against s aureus strains with a variety of susceptibility phenotypes in an immunocompromised murine pneumonia model was characterized the bpr mics of the test isolates ranged from to mugml pharmacokinetic pk studies were conducted with infected neutropenic balbc mice and the bpr concentrations were measured in plasma epithelial lining fluid elf and lung tissue pd studies with these mice were undertaken with eight s aureus isolates two MSSA strains three hospitalacquired mrsa strains and three CA mrsa strains subcutaneous bpr doses of to mgkg of body weightday were administered and the NC in the number of log cfuml in lungs was evaluated after h of therapy the pd profile was characterized by using the free drug exposures f determined from the following parameters the percentage of time that the concentration was greater than the mic t mic the Cmax in serummic and the area under the concentrationtime curvemic the bpr pk parameters were linear over the dose range studied in plasma and the elf concentrations ranged from to of the free plasma concentration ft mic was the parameter that best correlated with tau against a diverse array of s aureus isolates in this mu pneumonia model the effective dose ed ed and stasis exposures appeared to be similar among the isolates studied bpr exerted maximal antibacterial effects when ft mic ranged from to regardless of the phenotypic profile of resistance to betalactam fluoroquinolone erythromycin clindamycin or TCs\n",
            "\n",
            "USER: What is pneumania?\n",
            "ASSISTANT: Pneumonia is a lung infection caused by various types of bacteria, viruses, or fungi. It can range from a mild to a severe illness, and can affect people of all ages and backgrounds. Symptoms of pneumonia can include cough, fever, chest pain, and difficulty breathing. Treatment for pneumonia depends on the underlying cause and can include antibiotics, rest, and hydration. In severe cases, hospitalization may be necessary. Prevention measures include getting vaccinated, washing hands regularly, and avoiding close contact with people who are sick.\n",
            "\n",
            "########################################################################\n",
            "\n"
          ]
        },
        {
          "name": "stderr",
          "output_type": "stream",
          "text": [
            "/usr/local/lib/python3.10/dist-packages/transformers/generation/configuration_utils.py:628: UserWarning: `do_sample` is set to `False`. However, `temperature` is set to `0.9` -- this flag is only used in sample-based generation modes. You should set `do_sample=True` or unset `temperature`.\n",
            "  warnings.warn(\n",
            "/usr/local/lib/python3.10/dist-packages/transformers/generation/configuration_utils.py:633: UserWarning: `do_sample` is set to `False`. However, `top_p` is set to `0.6` -- this flag is only used in sample-based generation modes. You should set `do_sample=True` or unset `top_p`.\n",
            "  warnings.warn(\n"
          ]
        },
        {
          "name": "stdout",
          "output_type": "stream",
          "text": [
            "<s>A chat between a curious user and an artificial intelligence assistant. The assistant gives helpful, detailed, and polite answers to the user's questions.\n",
            "\n",
            "Your role here is specific: you are a doctor which knows everything about diseases, illnesses and medical stuff. You should answer USER questions about diseases, treatment and other questions concerning health. Use the following context from USER to answer questions. Question is the last USER's query. A relevant document is given above and goes after words \"DOCUMENT: \". Try to use this information in your answer. After the \"DOCUMENT: \" and the body of the document you are given a chat history - conversation with USER. Answer the last USER's question. Be as detailed as possible, but don't make up any information that's not from the context. If you don't know an answer, say you don't know.\n",
            "\n",
            "DOCUMENT: legionnaires disease is a modern environmental infectious disease it stems from the capacity of the causative agent legionella to multiply within amoebae in warm water and the use during the th century of devices that maintain water at warm temperatures and produce aerosols when contaminated with legionella aerosols consisting of respirable droplets place the bacteria in juxtaposition with alveolar macrophages which as with amoebae they may parasitize resulting in illness in susceptible persons the disease is much more common than previously appreciated with at least cases estimated to occur per year in the united states based on prospective studies two highly specific tests urinary antigen detection and sputum SC are available for diagnosis during illness with to sensitivity urinary antigen tests rapidly detect antigens of legionella SG which are responsible for of the cases of legionnaires disease results can be available within a few hours culture of sputum is to CS but several days are required for growth and many patients do not produce sputum serologic testing although useful for epidemiologic studies when convalescentphase antibody titers can be compared with acutephase titers is not helpful for clinical decision making because of the low positive predictive value of commercially available acutephase serologic tests erythromycins intravenous azithromycin and levofloxacin are currently approved by the us food and drug administration for treatment of legionnaires disease however clarithromycin and several other fluoroquinolones are active against legionella and may also provide ERP therapy recent recommendations from the CDC and preventions hospital IC practices advisory committee should be helpful in reducing nosocomial legionnaires disease recommendations are in place or are being developed to minimize the risk of disease in a variety of other settings\n",
            "\n",
            "legionnaires disease is a modern environmental infectious disease it stems from the capacity of the causative agent legionella to multiply within amoebae in warm water and the use during the th century of devices that maintain water at warm temperatures and produce aerosols when contaminated with legionella aerosols consisting of respirable droplets place the bacteria in juxtaposition with alveolar macrophages which as with amoebae they may parasitize resulting in illness in susceptible persons the disease is much more common than previously appreciated with at least cases estimated to occur per year in the united states based on prospective studies two highly specific tests urinary antigen detection and sputum SC are available for diagnosis during illness with to sensitivity urinary antigen tests rapidly detect antigens of legionella SG which are responsible for of the cases of legionnaires disease results can be available within a few hours culture of sputum is to CS but several days are required for growth and many patients do not produce sputum serologic testing although useful for epidemiologic studies when convalescentphase antibody titers can be compared with acutephase titers is not helpful for clinical decision making because of the low positive predictive value of commercially available acutephase serologic tests erythromycins intravenous azithromycin and levofloxacin are currently approved by the us food and drug administration for treatment of legionnaires disease however clarithromycin and several other fluoroquinolones are active against legionella and may also provide ERP therapy recent recommendations from the CDC and preventions hospital IC practices advisory committee should be helpful in reducing nosocomial legionnaires disease recommendations are in place or are being developed to minimize the risk of disease in a variety of other settings\n",
            "\n",
            "leptospirosis is a worldwide zoonosis and common in tropical and subtropical Az with high rainfall it should be noted as an imported infectious disease although it is sporadic in japan some imported cases already have been reported in japan and these cases occurred mainly in SEA the case discussed in this article is the first reported japanese case INF in vietnam four days after returning back to japan after a twoweek stay in the mountain area near hue in the middle part of vietnam the patient suddenly experienced chills a high fever sore throat gastrocnemius pain and HA conjunctival jaundice renal CF disorder and proteinuria were observed on the third day of onset significant increase in antibody titers against serovar australis and autumnalis strains was observed in paired serum samples by MAT mat consequently we recognized this case as a diagnosis of severe leptospirosis weils disease finally renal CF disorder did not deteriorate further and then the patient recovered T3 the tenth day of onset with the administration of antibiotics and supportive care without sequelae we experienced the first imported japanese case of severe human leptospirosis infection from vietnam that was successfully treated with ceftriaxone and minocycline\n",
            "\n",
            "leptospirosis is a worldwide zoonosis and common in tropical and subtropical Az with high rainfall it should be noted as an imported infectious disease although it is sporadic in japan some imported cases already have been reported in japan and these cases occurred mainly in SEA the case discussed in this article is the first reported japanese case INF in vietnam four days after returning back to japan after a twoweek stay in the mountain area near hue in the middle part of vietnam the patient suddenly experienced chills a high fever sore throat gastrocnemius pain and HA conjunctival jaundice renal CF disorder and proteinuria were observed on the third day of onset significant increase in antibody titers against serovar australis and autumnalis strains was observed in paired serum samples by MAT mat consequently we recognized this case as a diagnosis of severe leptospirosis weils disease finally renal CF disorder did not deteriorate further and then the patient recovered T3 the tenth day of onset with the administration of antibiotics and supportive care without sequelae we experienced the first imported japanese case of severe human leptospirosis infection from vietnam that was successfully treated with ceftriaxone and minocycline\n",
            "\n",
            "USER: What is pneumania?\n",
            "ASSISTANT: Pneumonia is a lung infection caused by various types of bacteria, viruses, or fungi. It can range from a mild to a severe illness, and can affect people of all ages and backgrounds. Symptoms of pneumonia can include cough, fever, chest pain, and difficulty breathing. Treatment for pneumonia depends on the underlying cause and can include antibiotics, rest, and hydration. In severe cases, hospitalization may be necessary. Prevention measures include getting vaccinated, washing hands regularly, and avoiding close contact with people who are sick.\n",
            "USER: How to treat it?\n",
            "ASSISTANT: The treatment for pneumonia depends on the underlying cause and the severity of the illness. For bacterial pneumonia, antibiotics are typically prescribed. The type of antibiotic prescribed will depend on the specific bacteria causing the infection. For viral pneumonia, antibiotics are not effective and treatment focuses on managing symptoms and providing supportive care. This may include rest, hydration, and over-the-counter medications such as pain relievers and cough suppressants. In severe cases, hospitalization may be necessary for further treatment and monitoring. It is important to follow the treatment plan prescribed by a healthcare provider and complete the full course of antibiotics, even if symptoms improve before the medication is finished.\n",
            "\n",
            "########################################################################\n",
            "\n"
          ]
        },
        {
          "name": "stderr",
          "output_type": "stream",
          "text": [
            "/usr/local/lib/python3.10/dist-packages/transformers/generation/configuration_utils.py:628: UserWarning: `do_sample` is set to `False`. However, `temperature` is set to `0.9` -- this flag is only used in sample-based generation modes. You should set `do_sample=True` or unset `temperature`.\n",
            "  warnings.warn(\n",
            "/usr/local/lib/python3.10/dist-packages/transformers/generation/configuration_utils.py:633: UserWarning: `do_sample` is set to `False`. However, `top_p` is set to `0.6` -- this flag is only used in sample-based generation modes. You should set `do_sample=True` or unset `top_p`.\n",
            "  warnings.warn(\n"
          ]
        },
        {
          "name": "stdout",
          "output_type": "stream",
          "text": [
            "<s>A chat between a curious user and an artificial intelligence assistant. The assistant gives helpful, detailed, and polite answers to the user's questions.\n",
            "\n",
            "Your role here is specific: you are a doctor which knows everything about diseases, illnesses and medical stuff. You should answer USER questions about diseases, treatment and other questions concerning health. Use the following context from USER to answer questions. Question is the last USER's query. A relevant document is given above and goes after words \"DOCUMENT: \". Try to use this information in your answer. After the \"DOCUMENT: \" and the body of the document you are given a chat history - conversation with USER. Answer the last USER's question. Be as detailed as possible, but don't make up any information that's not from the context. If you don't know an answer, say you don't know.\n",
            "\n",
            "DOCUMENT: legionnaires disease is a modern environmental infectious disease it stems from the capacity of the causative agent legionella to multiply within amoebae in warm water and the use during the th century of devices that maintain water at warm temperatures and produce aerosols when contaminated with legionella aerosols consisting of respirable droplets place the bacteria in juxtaposition with alveolar macrophages which as with amoebae they may parasitize resulting in illness in susceptible persons the disease is much more common than previously appreciated with at least cases estimated to occur per year in the united states based on prospective studies two highly specific tests urinary antigen detection and sputum SC are available for diagnosis during illness with to sensitivity urinary antigen tests rapidly detect antigens of legionella SG which are responsible for of the cases of legionnaires disease results can be available within a few hours culture of sputum is to CS but several days are required for growth and many patients do not produce sputum serologic testing although useful for epidemiologic studies when convalescentphase antibody titers can be compared with acutephase titers is not helpful for clinical decision making because of the low positive predictive value of commercially available acutephase serologic tests erythromycins intravenous azithromycin and levofloxacin are currently approved by the us food and drug administration for treatment of legionnaires disease however clarithromycin and several other fluoroquinolones are active against legionella and may also provide ERP therapy recent recommendations from the CDC and preventions hospital IC practices advisory committee should be helpful in reducing nosocomial legionnaires disease recommendations are in place or are being developed to minimize the risk of disease in a variety of other settings\n",
            "\n",
            "legionnaires disease is a modern environmental infectious disease it stems from the capacity of the causative agent legionella to multiply within amoebae in warm water and the use during the th century of devices that maintain water at warm temperatures and produce aerosols when contaminated with legionella aerosols consisting of respirable droplets place the bacteria in juxtaposition with alveolar macrophages which as with amoebae they may parasitize resulting in illness in susceptible persons the disease is much more common than previously appreciated with at least cases estimated to occur per year in the united states based on prospective studies two highly specific tests urinary antigen detection and sputum SC are available for diagnosis during illness with to sensitivity urinary antigen tests rapidly detect antigens of legionella SG which are responsible for of the cases of legionnaires disease results can be available within a few hours culture of sputum is to CS but several days are required for growth and many patients do not produce sputum serologic testing although useful for epidemiologic studies when convalescentphase antibody titers can be compared with acutephase titers is not helpful for clinical decision making because of the low positive predictive value of commercially available acutephase serologic tests erythromycins intravenous azithromycin and levofloxacin are currently approved by the us food and drug administration for treatment of legionnaires disease however clarithromycin and several other fluoroquinolones are active against legionella and may also provide ERP therapy recent recommendations from the CDC and preventions hospital IC practices advisory committee should be helpful in reducing nosocomial legionnaires disease recommendations are in place or are being developed to minimize the risk of disease in a variety of other settings\n",
            "\n",
            "ceftobiprole bpr is an investigational cephalosporin with activity against staphylococcus aureus including methicillinresistant s aureus mrsa strains the pharmacodynamic pd profile of bpr against s aureus strains with a variety of susceptibility phenotypes in an immunocompromised murine pneumonia model was characterized the bpr mics of the test isolates ranged from to mugml pharmacokinetic pk studies were conducted with infected neutropenic balbc mice and the bpr concentrations were measured in plasma epithelial lining fluid elf and lung tissue pd studies with these mice were undertaken with eight s aureus isolates two MSSA strains three hospitalacquired mrsa strains and three CA mrsa strains subcutaneous bpr doses of to mgkg of body weightday were administered and the NC in the number of log cfuml in lungs was evaluated after h of therapy the pd profile was characterized by using the free drug exposures f determined from the following parameters the percentage of time that the concentration was greater than the mic t mic the Cmax in serummic and the area under the concentrationtime curvemic the bpr pk parameters were linear over the dose range studied in plasma and the elf concentrations ranged from to of the free plasma concentration ft mic was the parameter that best correlated with tau against a diverse array of s aureus isolates in this mu pneumonia model the effective dose ed ed and stasis exposures appeared to be similar among the isolates studied bpr exerted maximal antibacterial effects when ft mic ranged from to regardless of the phenotypic profile of resistance to betalactam fluoroquinolone erythromycin clindamycin or TCs\n",
            "\n",
            "ceftobiprole bpr is an investigational cephalosporin with activity against staphylococcus aureus including methicillinresistant s aureus mrsa strains the pharmacodynamic pd profile of bpr against s aureus strains with a variety of susceptibility phenotypes in an immunocompromised murine pneumonia model was characterized the bpr mics of the test isolates ranged from to mugml pharmacokinetic pk studies were conducted with infected neutropenic balbc mice and the bpr concentrations were measured in plasma epithelial lining fluid elf and lung tissue pd studies with these mice were undertaken with eight s aureus isolates two MSSA strains three hospitalacquired mrsa strains and three CA mrsa strains subcutaneous bpr doses of to mgkg of body weightday were administered and the NC in the number of log cfuml in lungs was evaluated after h of therapy the pd profile was characterized by using the free drug exposures f determined from the following parameters the percentage of time that the concentration was greater than the mic t mic the Cmax in serummic and the area under the concentrationtime curvemic the bpr pk parameters were linear over the dose range studied in plasma and the elf concentrations ranged from to of the free plasma concentration ft mic was the parameter that best correlated with tau against a diverse array of s aureus isolates in this mu pneumonia model the effective dose ed ed and stasis exposures appeared to be similar among the isolates studied bpr exerted maximal antibacterial effects when ft mic ranged from to regardless of the phenotypic profile of resistance to betalactam fluoroquinolone erythromycin clindamycin or TCs\n",
            "\n",
            "USER: What is pneumania?\n",
            "ASSISTANT: Pneumonia is a lung infection caused by various types of bacteria, viruses, or fungi. It can range from a mild to a severe illness, and can affect people of all ages and backgrounds. Symptoms of pneumonia can include cough, fever, chest pain, and difficulty breathing. Treatment for pneumonia depends on the underlying cause and can include antibiotics, rest, and hydration. In severe cases, hospitalization may be necessary. Prevention measures include getting vaccinated, washing hands regularly, and avoiding close contact with people who are sick.\n",
            "USER: How to treat it?\n",
            "ASSISTANT: Pneumonia is a lung infection caused by various types of bacteria, viruses, or fungi. It can range from a mild to a severe illness, and can affect people of all ages and backgrounds. Symptoms of pneumonia can include cough, fever, chest pain, and difficulty breathing. Treatment for pneumonia depends on the underlying cause and can include antibiotics, rest, and hydration. In severe cases, hospitalization may be necessary. Prevention measures include getting vaccinated, washing hands regularly, and avoiding close contact with people who are sick.\n",
            "USER: How to treat it?\n",
            "ASSISTANT: The treatment for pneumonia depends on the underlying cause and the severity of the illness. For bacterial pneumonia, antibiotics are typically prescribed. The type of antibiotic prescribed will depend on the specific bacteria causing the infection. For viral pneumonia, antibiotics are not effective and treatment focuses on managing symptoms and providing supportive care. This may include rest, hydration, and over-the-counter medications such as pain relievers and cough suppressants. In severe cases, hospitalization may be necessary for further treatment and monitoring. It is important to follow the treatment plan prescribed by a healthcare provider and complete the full course of antibiotics, even if symptoms improve before the medication is finished.\n",
            "USER: What is the most common cause of pneumonia?\n",
            "ASSISTANT: The most common cause of pneumonia is a bacterial infection, specifically Streptococcus pneumoniae. However, pneumonia can also be caused by viruses, such as influenza and respiratory syncytial virus (RSV), as well as fungi and other microorganisms. The severity of pneumonia can range from mild to severe, and it can affect people of all ages and backgrounds.\n",
            "\n",
            "########################################################################\n",
            "\n"
          ]
        },
        {
          "name": "stderr",
          "output_type": "stream",
          "text": [
            "/usr/local/lib/python3.10/dist-packages/transformers/generation/configuration_utils.py:628: UserWarning: `do_sample` is set to `False`. However, `temperature` is set to `0.9` -- this flag is only used in sample-based generation modes. You should set `do_sample=True` or unset `temperature`.\n",
            "  warnings.warn(\n",
            "/usr/local/lib/python3.10/dist-packages/transformers/generation/configuration_utils.py:633: UserWarning: `do_sample` is set to `False`. However, `top_p` is set to `0.6` -- this flag is only used in sample-based generation modes. You should set `do_sample=True` or unset `top_p`.\n",
            "  warnings.warn(\n"
          ]
        },
        {
          "name": "stdout",
          "output_type": "stream",
          "text": [
            "<s>A chat between a curious user and an artificial intelligence assistant. The assistant gives helpful, detailed, and polite answers to the user's questions.\n",
            "\n",
            "Your role here is specific: you are a doctor which knows everything about diseases, illnesses and medical stuff. You should answer USER questions about diseases, treatment and other questions concerning health. Use the following context from USER to answer questions. Question is the last USER's query. A relevant document is given above and goes after words \"DOCUMENT: \". Try to use this information in your answer. After the \"DOCUMENT: \" and the body of the document you are given a chat history - conversation with USER. Answer the last USER's question. Be as detailed as possible, but don't make up any information that's not from the context. If you don't know an answer, say you don't know.\n",
            "\n",
            "DOCUMENT: ceftobiprole bpr is an investigational cephalosporin with activity against staphylococcus aureus including methicillinresistant s aureus mrsa strains the pharmacodynamic pd profile of bpr against s aureus strains with a variety of susceptibility phenotypes in an immunocompromised murine pneumonia model was characterized the bpr mics of the test isolates ranged from to mugml pharmacokinetic pk studies were conducted with infected neutropenic balbc mice and the bpr concentrations were measured in plasma epithelial lining fluid elf and lung tissue pd studies with these mice were undertaken with eight s aureus isolates two MSSA strains three hospitalacquired mrsa strains and three CA mrsa strains subcutaneous bpr doses of to mgkg of body weightday were administered and the NC in the number of log cfuml in lungs was evaluated after h of therapy the pd profile was characterized by using the free drug exposures f determined from the following parameters the percentage of time that the concentration was greater than the mic t mic the Cmax in serummic and the area under the concentrationtime curvemic the bpr pk parameters were linear over the dose range studied in plasma and the elf concentrations ranged from to of the free plasma concentration ft mic was the parameter that best correlated with tau against a diverse array of s aureus isolates in this mu pneumonia model the effective dose ed ed and stasis exposures appeared to be similar among the isolates studied bpr exerted maximal antibacterial effects when ft mic ranged from to regardless of the phenotypic profile of resistance to betalactam fluoroquinolone erythromycin clindamycin or TCs\n",
            "\n",
            "ceftobiprole bpr is an investigational cephalosporin with activity against staphylococcus aureus including methicillinresistant s aureus mrsa strains the pharmacodynamic pd profile of bpr against s aureus strains with a variety of susceptibility phenotypes in an immunocompromised murine pneumonia model was characterized the bpr mics of the test isolates ranged from to mugml pharmacokinetic pk studies were conducted with infected neutropenic balbc mice and the bpr concentrations were measured in plasma epithelial lining fluid elf and lung tissue pd studies with these mice were undertaken with eight s aureus isolates two MSSA strains three hospitalacquired mrsa strains and three CA mrsa strains subcutaneous bpr doses of to mgkg of body weightday were administered and the NC in the number of log cfuml in lungs was evaluated after h of therapy the pd profile was characterized by using the free drug exposures f determined from the following parameters the percentage of time that the concentration was greater than the mic t mic the Cmax in serummic and the area under the concentrationtime curvemic the bpr pk parameters were linear over the dose range studied in plasma and the elf concentrations ranged from to of the free plasma concentration ft mic was the parameter that best correlated with tau against a diverse array of s aureus isolates in this mu pneumonia model the effective dose ed ed and stasis exposures appeared to be similar among the isolates studied bpr exerted maximal antibacterial effects when ft mic ranged from to regardless of the phenotypic profile of resistance to betalactam fluoroquinolone erythromycin clindamycin or TCs\n",
            "\n",
            "legionnaires disease is a modern environmental infectious disease it stems from the capacity of the causative agent legionella to multiply within amoebae in warm water and the use during the th century of devices that maintain water at warm temperatures and produce aerosols when contaminated with legionella aerosols consisting of respirable droplets place the bacteria in juxtaposition with alveolar macrophages which as with amoebae they may parasitize resulting in illness in susceptible persons the disease is much more common than previously appreciated with at least cases estimated to occur per year in the united states based on prospective studies two highly specific tests urinary antigen detection and sputum SC are available for diagnosis during illness with to sensitivity urinary antigen tests rapidly detect antigens of legionella SG which are responsible for of the cases of legionnaires disease results can be available within a few hours culture of sputum is to CS but several days are required for growth and many patients do not produce sputum serologic testing although useful for epidemiologic studies when convalescentphase antibody titers can be compared with acutephase titers is not helpful for clinical decision making because of the low positive predictive value of commercially available acutephase serologic tests erythromycins intravenous azithromycin and levofloxacin are currently approved by the us food and drug administration for treatment of legionnaires disease however clarithromycin and several other fluoroquinolones are active against legionella and may also provide ERP therapy recent recommendations from the CDC and preventions hospital IC practices advisory committee should be helpful in reducing nosocomial legionnaires disease recommendations are in place or are being developed to minimize the risk of disease in a variety of other settings\n",
            "\n",
            "legionnaires disease is a modern environmental infectious disease it stems from the capacity of the causative agent legionella to multiply within amoebae in warm water and the use during the th century of devices that maintain water at warm temperatures and produce aerosols when contaminated with legionella aerosols consisting of respirable droplets place the bacteria in juxtaposition with alveolar macrophages which as with amoebae they may parasitize resulting in illness in susceptible persons the disease is much more common than previously appreciated with at least cases estimated to occur per year in the united states based on prospective studies two highly specific tests urinary antigen detection and sputum SC are available for diagnosis during illness with to sensitivity urinary antigen tests rapidly detect antigens of legionella SG which are responsible for of the cases of legionnaires disease results can be available within a few hours culture of sputum is to CS but several days are required for growth and many patients do not produce sputum serologic testing although useful for epidemiologic studies when convalescentphase antibody titers can be compared with acutephase titers is not helpful for clinical decision making because of the low positive predictive value of commercially available acutephase serologic tests erythromycins intravenous azithromycin and levofloxacin are currently approved by the us food and drug administration for treatment of legionnaires disease however clarithromycin and several other fluoroquinolones are active against legionella and may also provide ERP therapy recent recommendations from the CDC and preventions hospital IC practices advisory committee should be helpful in reducing nosocomial legionnaires disease recommendations are in place or are being developed to minimize the risk of disease in a variety of other settings\n",
            "\n",
            "USER: What is pneumania?\n",
            "ASSISTANT: Pneumonia is a lung infection caused by various types of bacteria, viruses, or fungi. It can range from a mild to a severe illness, and can affect people of all ages and backgrounds. Symptoms of pneumonia can include cough, fever, chest pain, and difficulty breathing. Treatment for pneumonia depends on the underlying cause and can include antibiotics, rest, and hydration. In severe cases, hospitalization may be necessary. Prevention measures include getting vaccinated, washing hands regularly, and avoiding close contact with people who are sick.\n",
            "USER: How to treat it?\n",
            "ASSISTANT: Pneumonia is a lung infection caused by various types of bacteria, viruses, or fungi. It can range from a mild to a severe illness, and can affect people of all ages and backgrounds. Symptoms of pneumonia can include cough, fever, chest pain, and difficulty breathing. Treatment for pneumonia depends on the underlying cause and can include antibiotics, rest, and hydration. In severe cases, hospitalization may be necessary. Prevention measures include getting vaccinated, washing hands regularly, and avoiding close contact with people who are sick.\n",
            "USER: How to treat it?\n",
            "ASSISTANT: The treatment for pneumonia depends on the underlying cause and the severity of the illness. For bacterial pneumonia, antibiotics are typically prescribed. The type of antibiotic prescribed will depend on the specific bacteria causing the infection. For viral pneumonia, antibiotics are not effective and treatment focuses on managing symptoms and providing supportive care. This may include rest, hydration, and over-the-counter medications such as pain relievers and cough suppressants. In severe cases, hospitalization may be necessary for further treatment and monitoring. It is important to follow the treatment plan prescribed by a healthcare provider and complete the full course of antibiotics, even if symptoms improve before the medication is finished.\n",
            "USER: What is the most common cause of pneumonia?\n",
            "ASSISTANT: Pneumonia is a lung infection caused by various types of bacteria, viruses, or fungi. It can range from a mild to a severe illness, and can affect people of all ages and backgrounds. Symptoms of pneumonia can include cough, fever, chest pain, and difficulty breathing. Treatment for pneumonia depends on the underlying cause and can include antibiotics, rest, and hydration. In severe cases, hospitalization may be necessary. Prevention measures include getting vaccinated, washing hands regularly, and avoiding close contact with people who are sick.\n",
            "USER: How to treat it?\n",
            "ASSISTANT: Pneumonia is a lung infection caused by various types of bacteria, viruses, or fungi. It can range from a mild to a severe illness, and can affect people of all ages and backgrounds. Symptoms of pneumonia can include cough, fever, chest pain, and difficulty breathing. Treatment for pneumonia depends on the underlying cause and can include antibiotics, rest, and hydration. In severe cases, hospitalization may be necessary. Prevention measures include getting vaccinated, washing hands regularly, and avoiding close contact with people who are sick.\n",
            "USER: How to treat it?\n",
            "ASSISTANT: The treatment for pneumonia depends on the underlying cause and the severity of the illness. For bacterial pneumonia, antibiotics are typically prescribed. The type of antibiotic prescribed will depend on the specific bacteria causing the infection. For viral pneumonia, antibiotics are not effective and treatment focuses on managing symptoms and providing supportive care. This may include rest, hydration, and over-the-counter medications such as pain relievers and cough suppressants. In severe cases, hospitalization may be necessary for further treatment and monitoring. It is important to follow the treatment plan prescribed by a healthcare provider and complete the full course of antibiotics, even if symptoms improve before the medication is finished.\n",
            "USER: What is the most common cause of pneumonia?\n",
            "ASSISTANT: The most common cause of pneumonia is a bacterial infection, specifically Streptococcus pneumoniae. However, pneumonia can also be caused by viruses, such as influenza and respiratory syncytial virus (RSV), as well as fungi and other microorganisms. The severity of pneumonia can range from mild to severe, and it can affect people of all ages and backgrounds.\n",
            "USER: How to avoid this disease?\n",
            "ASSISTANT: There are several ways to help avoid pneumonia:\n",
            "\n",
            "1. Get vaccinated: There are several vaccines available that can help protect against pneumonia caused by certain bacteria and viruses.\n",
            "2. Practice good hygiene: Wash your hands frequently, especially after coughing or sneezing, and avoid close contact with people who are sick.\n",
            "3. Avoid smoking and exposure to secondhand smoke: Smoking and exposure to secondhand smoke can weaken your immune system and increase your risk of developing pneumonia.\n",
            "4. Stay healthy: Eat a healthy diet, exercise regularly, and get enough sleep to help keep your immune system strong.\n",
            "5. Protect yourself during outbreaks: If there is an outbreak of pneumonia in your community, avoid areas where the disease is spreading and follow the advice of public health officials.\n",
            "\n",
            "\n",
            "\n",
            "########################################################################\n",
            "\n"
          ]
        }
      ],
      "source": [
        "chat_history = InMemoryHistory()\n",
        "\n",
        "for question in ['What is pneumania?', 'How to treat it?', 'What is the most common cause of pneumonia?', 'How to avoid this disease?']:\n",
        "  chat_history.add_message(f\"USER: {question}\")\n",
        "  formatted_history = chat_history.format_history()\n",
        "  LLM_out = chain.invoke(formatted_history)\n",
        "  chat_history.add_message(f\"{LLM_out[LLM_out.find('ASSISTANT: '): ]}\")\n",
        "  print(LLM_out)\n",
        "  print()\n",
        "  print('########################################################################')\n",
        "  print()"
      ]
    },
    {
      "cell_type": "markdown",
      "metadata": {
        "id": "pKruRBkItBP8"
      },
      "source": [
        "Там в один момент сама модель стала за пользователя генерить вопрос и отвечать на него :))"
      ]
    },
    {
      "cell_type": "markdown",
      "metadata": {
        "id": "CiIdJzEFspXu"
      },
      "source": [
        "Можно сделать то же самое, но через while и question = input(). Получится полноценная qa система в этом ноутбуке"
      ]
    },
    {
      "cell_type": "code",
      "execution_count": 41,
      "metadata": {
        "colab": {
          "base_uri": "https://localhost:8080/"
        },
        "id": "QRKcAV8StMUR",
        "outputId": "b8802780-428e-43b7-c939-e5616a437dd5"
      },
      "outputs": [
        {
          "name": "stdout",
          "output_type": "stream",
          "text": [
            "What is pneumania?\n"
          ]
        },
        {
          "name": "stderr",
          "output_type": "stream",
          "text": [
            "/usr/local/lib/python3.10/dist-packages/transformers/generation/configuration_utils.py:628: UserWarning: `do_sample` is set to `False`. However, `temperature` is set to `0.9` -- this flag is only used in sample-based generation modes. You should set `do_sample=True` or unset `temperature`.\n",
            "  warnings.warn(\n",
            "/usr/local/lib/python3.10/dist-packages/transformers/generation/configuration_utils.py:633: UserWarning: `do_sample` is set to `False`. However, `top_p` is set to `0.6` -- this flag is only used in sample-based generation modes. You should set `do_sample=True` or unset `top_p`.\n",
            "  warnings.warn(\n"
          ]
        },
        {
          "name": "stdout",
          "output_type": "stream",
          "text": [
            "<s>A chat between a curious user and an artificial intelligence assistant. The assistant gives helpful, detailed, and polite answers to the user's questions.\n",
            "\n",
            "Your role here is specific: you are a doctor which knows everything about diseases, illnesses and medical stuff. You should answer USER questions about diseases, treatment and other questions concerning health. Use the following context from USER to answer questions. Question is the last USER's query. A relevant document is given above and goes after words \"DOCUMENT: \". Try to use this information in your answer. After the \"DOCUMENT: \" and the body of the document you are given a chat history - conversation with USER. Answer the last USER's question. Be as detailed as possible, but don't make up any information that's not from the context. If you don't know an answer, say you don't know.\n",
            "\n",
            "DOCUMENT: legionnaires disease is a modern environmental infectious disease it stems from the capacity of the causative agent legionella to multiply within amoebae in warm water and the use during the th century of devices that maintain water at warm temperatures and produce aerosols when contaminated with legionella aerosols consisting of respirable droplets place the bacteria in juxtaposition with alveolar macrophages which as with amoebae they may parasitize resulting in illness in susceptible persons the disease is much more common than previously appreciated with at least cases estimated to occur per year in the united states based on prospective studies two highly specific tests urinary antigen detection and sputum SC are available for diagnosis during illness with to sensitivity urinary antigen tests rapidly detect antigens of legionella SG which are responsible for of the cases of legionnaires disease results can be available within a few hours culture of sputum is to CS but several days are required for growth and many patients do not produce sputum serologic testing although useful for epidemiologic studies when convalescentphase antibody titers can be compared with acutephase titers is not helpful for clinical decision making because of the low positive predictive value of commercially available acutephase serologic tests erythromycins intravenous azithromycin and levofloxacin are currently approved by the us food and drug administration for treatment of legionnaires disease however clarithromycin and several other fluoroquinolones are active against legionella and may also provide ERP therapy recent recommendations from the CDC and preventions hospital IC practices advisory committee should be helpful in reducing nosocomial legionnaires disease recommendations are in place or are being developed to minimize the risk of disease in a variety of other settings\n",
            "\n",
            "legionnaires disease is a modern environmental infectious disease it stems from the capacity of the causative agent legionella to multiply within amoebae in warm water and the use during the th century of devices that maintain water at warm temperatures and produce aerosols when contaminated with legionella aerosols consisting of respirable droplets place the bacteria in juxtaposition with alveolar macrophages which as with amoebae they may parasitize resulting in illness in susceptible persons the disease is much more common than previously appreciated with at least cases estimated to occur per year in the united states based on prospective studies two highly specific tests urinary antigen detection and sputum SC are available for diagnosis during illness with to sensitivity urinary antigen tests rapidly detect antigens of legionella SG which are responsible for of the cases of legionnaires disease results can be available within a few hours culture of sputum is to CS but several days are required for growth and many patients do not produce sputum serologic testing although useful for epidemiologic studies when convalescentphase antibody titers can be compared with acutephase titers is not helpful for clinical decision making because of the low positive predictive value of commercially available acutephase serologic tests erythromycins intravenous azithromycin and levofloxacin are currently approved by the us food and drug administration for treatment of legionnaires disease however clarithromycin and several other fluoroquinolones are active against legionella and may also provide ERP therapy recent recommendations from the CDC and preventions hospital IC practices advisory committee should be helpful in reducing nosocomial legionnaires disease recommendations are in place or are being developed to minimize the risk of disease in a variety of other settings\n",
            "\n",
            "ceftobiprole bpr is an investigational cephalosporin with activity against staphylococcus aureus including methicillinresistant s aureus mrsa strains the pharmacodynamic pd profile of bpr against s aureus strains with a variety of susceptibility phenotypes in an immunocompromised murine pneumonia model was characterized the bpr mics of the test isolates ranged from to mugml pharmacokinetic pk studies were conducted with infected neutropenic balbc mice and the bpr concentrations were measured in plasma epithelial lining fluid elf and lung tissue pd studies with these mice were undertaken with eight s aureus isolates two MSSA strains three hospitalacquired mrsa strains and three CA mrsa strains subcutaneous bpr doses of to mgkg of body weightday were administered and the NC in the number of log cfuml in lungs was evaluated after h of therapy the pd profile was characterized by using the free drug exposures f determined from the following parameters the percentage of time that the concentration was greater than the mic t mic the Cmax in serummic and the area under the concentrationtime curvemic the bpr pk parameters were linear over the dose range studied in plasma and the elf concentrations ranged from to of the free plasma concentration ft mic was the parameter that best correlated with tau against a diverse array of s aureus isolates in this mu pneumonia model the effective dose ed ed and stasis exposures appeared to be similar among the isolates studied bpr exerted maximal antibacterial effects when ft mic ranged from to regardless of the phenotypic profile of resistance to betalactam fluoroquinolone erythromycin clindamycin or TCs\n",
            "\n",
            "ceftobiprole bpr is an investigational cephalosporin with activity against staphylococcus aureus including methicillinresistant s aureus mrsa strains the pharmacodynamic pd profile of bpr against s aureus strains with a variety of susceptibility phenotypes in an immunocompromised murine pneumonia model was characterized the bpr mics of the test isolates ranged from to mugml pharmacokinetic pk studies were conducted with infected neutropenic balbc mice and the bpr concentrations were measured in plasma epithelial lining fluid elf and lung tissue pd studies with these mice were undertaken with eight s aureus isolates two MSSA strains three hospitalacquired mrsa strains and three CA mrsa strains subcutaneous bpr doses of to mgkg of body weightday were administered and the NC in the number of log cfuml in lungs was evaluated after h of therapy the pd profile was characterized by using the free drug exposures f determined from the following parameters the percentage of time that the concentration was greater than the mic t mic the Cmax in serummic and the area under the concentrationtime curvemic the bpr pk parameters were linear over the dose range studied in plasma and the elf concentrations ranged from to of the free plasma concentration ft mic was the parameter that best correlated with tau against a diverse array of s aureus isolates in this mu pneumonia model the effective dose ed ed and stasis exposures appeared to be similar among the isolates studied bpr exerted maximal antibacterial effects when ft mic ranged from to regardless of the phenotypic profile of resistance to betalactam fluoroquinolone erythromycin clindamycin or TCs\n",
            "\n",
            "USER: What is pneumania?\n",
            "ASSISTANT: Pneumonia is a lung infection caused by various types of bacteria, viruses, or fungi. It can range from a mild to a severe illness, and can affect people of all ages and backgrounds. Symptoms of pneumonia can include cough, fever, chest pain, and difficulty breathing. Treatment for pneumonia depends on the underlying cause and can include antibiotics, rest, and hydration. In severe cases, hospitalization may be necessary. Prevention measures include getting vaccinated, washing hands regularly, and avoiding close contact with people who are sick.\n",
            "\n",
            "########################################################################\n",
            "\n",
            "How to treat it?\n"
          ]
        },
        {
          "name": "stderr",
          "output_type": "stream",
          "text": [
            "You seem to be using the pipelines sequentially on GPU. In order to maximize efficiency please use a dataset\n",
            "/usr/local/lib/python3.10/dist-packages/transformers/generation/configuration_utils.py:628: UserWarning: `do_sample` is set to `False`. However, `temperature` is set to `0.9` -- this flag is only used in sample-based generation modes. You should set `do_sample=True` or unset `temperature`.\n",
            "  warnings.warn(\n",
            "/usr/local/lib/python3.10/dist-packages/transformers/generation/configuration_utils.py:633: UserWarning: `do_sample` is set to `False`. However, `top_p` is set to `0.6` -- this flag is only used in sample-based generation modes. You should set `do_sample=True` or unset `top_p`.\n",
            "  warnings.warn(\n"
          ]
        },
        {
          "name": "stdout",
          "output_type": "stream",
          "text": [
            "<s>A chat between a curious user and an artificial intelligence assistant. The assistant gives helpful, detailed, and polite answers to the user's questions.\n",
            "\n",
            "Your role here is specific: you are a doctor which knows everything about diseases, illnesses and medical stuff. You should answer USER questions about diseases, treatment and other questions concerning health. Use the following context from USER to answer questions. Question is the last USER's query. A relevant document is given above and goes after words \"DOCUMENT: \". Try to use this information in your answer. After the \"DOCUMENT: \" and the body of the document you are given a chat history - conversation with USER. Answer the last USER's question. Be as detailed as possible, but don't make up any information that's not from the context. If you don't know an answer, say you don't know.\n",
            "\n",
            "DOCUMENT: legionnaires disease is a modern environmental infectious disease it stems from the capacity of the causative agent legionella to multiply within amoebae in warm water and the use during the th century of devices that maintain water at warm temperatures and produce aerosols when contaminated with legionella aerosols consisting of respirable droplets place the bacteria in juxtaposition with alveolar macrophages which as with amoebae they may parasitize resulting in illness in susceptible persons the disease is much more common than previously appreciated with at least cases estimated to occur per year in the united states based on prospective studies two highly specific tests urinary antigen detection and sputum SC are available for diagnosis during illness with to sensitivity urinary antigen tests rapidly detect antigens of legionella SG which are responsible for of the cases of legionnaires disease results can be available within a few hours culture of sputum is to CS but several days are required for growth and many patients do not produce sputum serologic testing although useful for epidemiologic studies when convalescentphase antibody titers can be compared with acutephase titers is not helpful for clinical decision making because of the low positive predictive value of commercially available acutephase serologic tests erythromycins intravenous azithromycin and levofloxacin are currently approved by the us food and drug administration for treatment of legionnaires disease however clarithromycin and several other fluoroquinolones are active against legionella and may also provide ERP therapy recent recommendations from the CDC and preventions hospital IC practices advisory committee should be helpful in reducing nosocomial legionnaires disease recommendations are in place or are being developed to minimize the risk of disease in a variety of other settings\n",
            "\n",
            "legionnaires disease is a modern environmental infectious disease it stems from the capacity of the causative agent legionella to multiply within amoebae in warm water and the use during the th century of devices that maintain water at warm temperatures and produce aerosols when contaminated with legionella aerosols consisting of respirable droplets place the bacteria in juxtaposition with alveolar macrophages which as with amoebae they may parasitize resulting in illness in susceptible persons the disease is much more common than previously appreciated with at least cases estimated to occur per year in the united states based on prospective studies two highly specific tests urinary antigen detection and sputum SC are available for diagnosis during illness with to sensitivity urinary antigen tests rapidly detect antigens of legionella SG which are responsible for of the cases of legionnaires disease results can be available within a few hours culture of sputum is to CS but several days are required for growth and many patients do not produce sputum serologic testing although useful for epidemiologic studies when convalescentphase antibody titers can be compared with acutephase titers is not helpful for clinical decision making because of the low positive predictive value of commercially available acutephase serologic tests erythromycins intravenous azithromycin and levofloxacin are currently approved by the us food and drug administration for treatment of legionnaires disease however clarithromycin and several other fluoroquinolones are active against legionella and may also provide ERP therapy recent recommendations from the CDC and preventions hospital IC practices advisory committee should be helpful in reducing nosocomial legionnaires disease recommendations are in place or are being developed to minimize the risk of disease in a variety of other settings\n",
            "\n",
            "leptospirosis is a worldwide zoonosis and common in tropical and subtropical Az with high rainfall it should be noted as an imported infectious disease although it is sporadic in japan some imported cases already have been reported in japan and these cases occurred mainly in SEA the case discussed in this article is the first reported japanese case INF in vietnam four days after returning back to japan after a twoweek stay in the mountain area near hue in the middle part of vietnam the patient suddenly experienced chills a high fever sore throat gastrocnemius pain and HA conjunctival jaundice renal CF disorder and proteinuria were observed on the third day of onset significant increase in antibody titers against serovar australis and autumnalis strains was observed in paired serum samples by MAT mat consequently we recognized this case as a diagnosis of severe leptospirosis weils disease finally renal CF disorder did not deteriorate further and then the patient recovered T3 the tenth day of onset with the administration of antibiotics and supportive care without sequelae we experienced the first imported japanese case of severe human leptospirosis infection from vietnam that was successfully treated with ceftriaxone and minocycline\n",
            "\n",
            "leptospirosis is a worldwide zoonosis and common in tropical and subtropical Az with high rainfall it should be noted as an imported infectious disease although it is sporadic in japan some imported cases already have been reported in japan and these cases occurred mainly in SEA the case discussed in this article is the first reported japanese case INF in vietnam four days after returning back to japan after a twoweek stay in the mountain area near hue in the middle part of vietnam the patient suddenly experienced chills a high fever sore throat gastrocnemius pain and HA conjunctival jaundice renal CF disorder and proteinuria were observed on the third day of onset significant increase in antibody titers against serovar australis and autumnalis strains was observed in paired serum samples by MAT mat consequently we recognized this case as a diagnosis of severe leptospirosis weils disease finally renal CF disorder did not deteriorate further and then the patient recovered T3 the tenth day of onset with the administration of antibiotics and supportive care without sequelae we experienced the first imported japanese case of severe human leptospirosis infection from vietnam that was successfully treated with ceftriaxone and minocycline\n",
            "\n",
            "USER: What is pneumania?\n",
            "ASSISTANT: Pneumonia is a lung infection caused by various types of bacteria, viruses, or fungi. It can range from a mild to a severe illness, and can affect people of all ages and backgrounds. Symptoms of pneumonia can include cough, fever, chest pain, and difficulty breathing. Treatment for pneumonia depends on the underlying cause and can include antibiotics, rest, and hydration. In severe cases, hospitalization may be necessary. Prevention measures include getting vaccinated, washing hands regularly, and avoiding close contact with people who are sick.\n",
            "USER: How to treat it?\n",
            "ASSISTANT: The treatment for pneumonia depends on the underlying cause and the severity of the illness. For bacterial pneumonia, antibiotics are typically prescribed. The type of antibiotic prescribed will depend on the specific bacteria causing the infection. For viral pneumonia, antibiotics are not effective and treatment focuses on managing symptoms and providing supportive care. This may include rest, hydration, and over-the-counter medications such as pain relievers and cough suppressants. In severe cases, hospitalization may be necessary for further treatment and monitoring. It is important to follow the treatment plan prescribed by a healthcare provider and complete the full course of antibiotics, even if symptoms improve before the medication is finished.\n",
            "\n",
            "########################################################################\n",
            "\n",
            "What is the most common cause of pneumonia?\n"
          ]
        },
        {
          "name": "stderr",
          "output_type": "stream",
          "text": [
            "/usr/local/lib/python3.10/dist-packages/transformers/generation/configuration_utils.py:628: UserWarning: `do_sample` is set to `False`. However, `temperature` is set to `0.9` -- this flag is only used in sample-based generation modes. You should set `do_sample=True` or unset `temperature`.\n",
            "  warnings.warn(\n",
            "/usr/local/lib/python3.10/dist-packages/transformers/generation/configuration_utils.py:633: UserWarning: `do_sample` is set to `False`. However, `top_p` is set to `0.6` -- this flag is only used in sample-based generation modes. You should set `do_sample=True` or unset `top_p`.\n",
            "  warnings.warn(\n"
          ]
        },
        {
          "name": "stdout",
          "output_type": "stream",
          "text": [
            "<s>A chat between a curious user and an artificial intelligence assistant. The assistant gives helpful, detailed, and polite answers to the user's questions.\n",
            "\n",
            "Your role here is specific: you are a doctor which knows everything about diseases, illnesses and medical stuff. You should answer USER questions about diseases, treatment and other questions concerning health. Use the following context from USER to answer questions. Question is the last USER's query. A relevant document is given above and goes after words \"DOCUMENT: \". Try to use this information in your answer. After the \"DOCUMENT: \" and the body of the document you are given a chat history - conversation with USER. Answer the last USER's question. Be as detailed as possible, but don't make up any information that's not from the context. If you don't know an answer, say you don't know.\n",
            "\n",
            "DOCUMENT: legionnaires disease is a modern environmental infectious disease it stems from the capacity of the causative agent legionella to multiply within amoebae in warm water and the use during the th century of devices that maintain water at warm temperatures and produce aerosols when contaminated with legionella aerosols consisting of respirable droplets place the bacteria in juxtaposition with alveolar macrophages which as with amoebae they may parasitize resulting in illness in susceptible persons the disease is much more common than previously appreciated with at least cases estimated to occur per year in the united states based on prospective studies two highly specific tests urinary antigen detection and sputum SC are available for diagnosis during illness with to sensitivity urinary antigen tests rapidly detect antigens of legionella SG which are responsible for of the cases of legionnaires disease results can be available within a few hours culture of sputum is to CS but several days are required for growth and many patients do not produce sputum serologic testing although useful for epidemiologic studies when convalescentphase antibody titers can be compared with acutephase titers is not helpful for clinical decision making because of the low positive predictive value of commercially available acutephase serologic tests erythromycins intravenous azithromycin and levofloxacin are currently approved by the us food and drug administration for treatment of legionnaires disease however clarithromycin and several other fluoroquinolones are active against legionella and may also provide ERP therapy recent recommendations from the CDC and preventions hospital IC practices advisory committee should be helpful in reducing nosocomial legionnaires disease recommendations are in place or are being developed to minimize the risk of disease in a variety of other settings\n",
            "\n",
            "legionnaires disease is a modern environmental infectious disease it stems from the capacity of the causative agent legionella to multiply within amoebae in warm water and the use during the th century of devices that maintain water at warm temperatures and produce aerosols when contaminated with legionella aerosols consisting of respirable droplets place the bacteria in juxtaposition with alveolar macrophages which as with amoebae they may parasitize resulting in illness in susceptible persons the disease is much more common than previously appreciated with at least cases estimated to occur per year in the united states based on prospective studies two highly specific tests urinary antigen detection and sputum SC are available for diagnosis during illness with to sensitivity urinary antigen tests rapidly detect antigens of legionella SG which are responsible for of the cases of legionnaires disease results can be available within a few hours culture of sputum is to CS but several days are required for growth and many patients do not produce sputum serologic testing although useful for epidemiologic studies when convalescentphase antibody titers can be compared with acutephase titers is not helpful for clinical decision making because of the low positive predictive value of commercially available acutephase serologic tests erythromycins intravenous azithromycin and levofloxacin are currently approved by the us food and drug administration for treatment of legionnaires disease however clarithromycin and several other fluoroquinolones are active against legionella and may also provide ERP therapy recent recommendations from the CDC and preventions hospital IC practices advisory committee should be helpful in reducing nosocomial legionnaires disease recommendations are in place or are being developed to minimize the risk of disease in a variety of other settings\n",
            "\n",
            "ceftobiprole bpr is an investigational cephalosporin with activity against staphylococcus aureus including methicillinresistant s aureus mrsa strains the pharmacodynamic pd profile of bpr against s aureus strains with a variety of susceptibility phenotypes in an immunocompromised murine pneumonia model was characterized the bpr mics of the test isolates ranged from to mugml pharmacokinetic pk studies were conducted with infected neutropenic balbc mice and the bpr concentrations were measured in plasma epithelial lining fluid elf and lung tissue pd studies with these mice were undertaken with eight s aureus isolates two MSSA strains three hospitalacquired mrsa strains and three CA mrsa strains subcutaneous bpr doses of to mgkg of body weightday were administered and the NC in the number of log cfuml in lungs was evaluated after h of therapy the pd profile was characterized by using the free drug exposures f determined from the following parameters the percentage of time that the concentration was greater than the mic t mic the Cmax in serummic and the area under the concentrationtime curvemic the bpr pk parameters were linear over the dose range studied in plasma and the elf concentrations ranged from to of the free plasma concentration ft mic was the parameter that best correlated with tau against a diverse array of s aureus isolates in this mu pneumonia model the effective dose ed ed and stasis exposures appeared to be similar among the isolates studied bpr exerted maximal antibacterial effects when ft mic ranged from to regardless of the phenotypic profile of resistance to betalactam fluoroquinolone erythromycin clindamycin or TCs\n",
            "\n",
            "ceftobiprole bpr is an investigational cephalosporin with activity against staphylococcus aureus including methicillinresistant s aureus mrsa strains the pharmacodynamic pd profile of bpr against s aureus strains with a variety of susceptibility phenotypes in an immunocompromised murine pneumonia model was characterized the bpr mics of the test isolates ranged from to mugml pharmacokinetic pk studies were conducted with infected neutropenic balbc mice and the bpr concentrations were measured in plasma epithelial lining fluid elf and lung tissue pd studies with these mice were undertaken with eight s aureus isolates two MSSA strains three hospitalacquired mrsa strains and three CA mrsa strains subcutaneous bpr doses of to mgkg of body weightday were administered and the NC in the number of log cfuml in lungs was evaluated after h of therapy the pd profile was characterized by using the free drug exposures f determined from the following parameters the percentage of time that the concentration was greater than the mic t mic the Cmax in serummic and the area under the concentrationtime curvemic the bpr pk parameters were linear over the dose range studied in plasma and the elf concentrations ranged from to of the free plasma concentration ft mic was the parameter that best correlated with tau against a diverse array of s aureus isolates in this mu pneumonia model the effective dose ed ed and stasis exposures appeared to be similar among the isolates studied bpr exerted maximal antibacterial effects when ft mic ranged from to regardless of the phenotypic profile of resistance to betalactam fluoroquinolone erythromycin clindamycin or TCs\n",
            "\n",
            "USER: What is pneumania?\n",
            "ASSISTANT: Pneumonia is a lung infection caused by various types of bacteria, viruses, or fungi. It can range from a mild to a severe illness, and can affect people of all ages and backgrounds. Symptoms of pneumonia can include cough, fever, chest pain, and difficulty breathing. Treatment for pneumonia depends on the underlying cause and can include antibiotics, rest, and hydration. In severe cases, hospitalization may be necessary. Prevention measures include getting vaccinated, washing hands regularly, and avoiding close contact with people who are sick.\n",
            "USER: How to treat it?\n",
            "ASSISTANT: Pneumonia is a lung infection caused by various types of bacteria, viruses, or fungi. It can range from a mild to a severe illness, and can affect people of all ages and backgrounds. Symptoms of pneumonia can include cough, fever, chest pain, and difficulty breathing. Treatment for pneumonia depends on the underlying cause and can include antibiotics, rest, and hydration. In severe cases, hospitalization may be necessary. Prevention measures include getting vaccinated, washing hands regularly, and avoiding close contact with people who are sick.\n",
            "USER: How to treat it?\n",
            "ASSISTANT: The treatment for pneumonia depends on the underlying cause and the severity of the illness. For bacterial pneumonia, antibiotics are typically prescribed. The type of antibiotic prescribed will depend on the specific bacteria causing the infection. For viral pneumonia, antibiotics are not effective and treatment focuses on managing symptoms and providing supportive care. This may include rest, hydration, and over-the-counter medications such as pain relievers and cough suppressants. In severe cases, hospitalization may be necessary for further treatment and monitoring. It is important to follow the treatment plan prescribed by a healthcare provider and complete the full course of antibiotics, even if symptoms improve before the medication is finished.\n",
            "USER: What is the most common cause of pneumonia?\n",
            "ASSISTANT: The most common cause of pneumonia is a bacterial infection, specifically Streptococcus pneumoniae. However, pneumonia can also be caused by viruses, such as influenza and respiratory syncytial virus (RSV), as well as fungi and other microorganisms. The severity of pneumonia can range from mild to severe, and it can affect people of all ages and backgrounds.\n",
            "\n",
            "########################################################################\n",
            "\n",
            "How to avoid this disease?\n"
          ]
        },
        {
          "name": "stderr",
          "output_type": "stream",
          "text": [
            "/usr/local/lib/python3.10/dist-packages/transformers/generation/configuration_utils.py:628: UserWarning: `do_sample` is set to `False`. However, `temperature` is set to `0.9` -- this flag is only used in sample-based generation modes. You should set `do_sample=True` or unset `temperature`.\n",
            "  warnings.warn(\n",
            "/usr/local/lib/python3.10/dist-packages/transformers/generation/configuration_utils.py:633: UserWarning: `do_sample` is set to `False`. However, `top_p` is set to `0.6` -- this flag is only used in sample-based generation modes. You should set `do_sample=True` or unset `top_p`.\n",
            "  warnings.warn(\n"
          ]
        },
        {
          "name": "stdout",
          "output_type": "stream",
          "text": [
            "<s>A chat between a curious user and an artificial intelligence assistant. The assistant gives helpful, detailed, and polite answers to the user's questions.\n",
            "\n",
            "Your role here is specific: you are a doctor which knows everything about diseases, illnesses and medical stuff. You should answer USER questions about diseases, treatment and other questions concerning health. Use the following context from USER to answer questions. Question is the last USER's query. A relevant document is given above and goes after words \"DOCUMENT: \". Try to use this information in your answer. After the \"DOCUMENT: \" and the body of the document you are given a chat history - conversation with USER. Answer the last USER's question. Be as detailed as possible, but don't make up any information that's not from the context. If you don't know an answer, say you don't know.\n",
            "\n",
            "DOCUMENT: ceftobiprole bpr is an investigational cephalosporin with activity against staphylococcus aureus including methicillinresistant s aureus mrsa strains the pharmacodynamic pd profile of bpr against s aureus strains with a variety of susceptibility phenotypes in an immunocompromised murine pneumonia model was characterized the bpr mics of the test isolates ranged from to mugml pharmacokinetic pk studies were conducted with infected neutropenic balbc mice and the bpr concentrations were measured in plasma epithelial lining fluid elf and lung tissue pd studies with these mice were undertaken with eight s aureus isolates two MSSA strains three hospitalacquired mrsa strains and three CA mrsa strains subcutaneous bpr doses of to mgkg of body weightday were administered and the NC in the number of log cfuml in lungs was evaluated after h of therapy the pd profile was characterized by using the free drug exposures f determined from the following parameters the percentage of time that the concentration was greater than the mic t mic the Cmax in serummic and the area under the concentrationtime curvemic the bpr pk parameters were linear over the dose range studied in plasma and the elf concentrations ranged from to of the free plasma concentration ft mic was the parameter that best correlated with tau against a diverse array of s aureus isolates in this mu pneumonia model the effective dose ed ed and stasis exposures appeared to be similar among the isolates studied bpr exerted maximal antibacterial effects when ft mic ranged from to regardless of the phenotypic profile of resistance to betalactam fluoroquinolone erythromycin clindamycin or TCs\n",
            "\n",
            "ceftobiprole bpr is an investigational cephalosporin with activity against staphylococcus aureus including methicillinresistant s aureus mrsa strains the pharmacodynamic pd profile of bpr against s aureus strains with a variety of susceptibility phenotypes in an immunocompromised murine pneumonia model was characterized the bpr mics of the test isolates ranged from to mugml pharmacokinetic pk studies were conducted with infected neutropenic balbc mice and the bpr concentrations were measured in plasma epithelial lining fluid elf and lung tissue pd studies with these mice were undertaken with eight s aureus isolates two MSSA strains three hospitalacquired mrsa strains and three CA mrsa strains subcutaneous bpr doses of to mgkg of body weightday were administered and the NC in the number of log cfuml in lungs was evaluated after h of therapy the pd profile was characterized by using the free drug exposures f determined from the following parameters the percentage of time that the concentration was greater than the mic t mic the Cmax in serummic and the area under the concentrationtime curvemic the bpr pk parameters were linear over the dose range studied in plasma and the elf concentrations ranged from to of the free plasma concentration ft mic was the parameter that best correlated with tau against a diverse array of s aureus isolates in this mu pneumonia model the effective dose ed ed and stasis exposures appeared to be similar among the isolates studied bpr exerted maximal antibacterial effects when ft mic ranged from to regardless of the phenotypic profile of resistance to betalactam fluoroquinolone erythromycin clindamycin or TCs\n",
            "\n",
            "legionnaires disease is a modern environmental infectious disease it stems from the capacity of the causative agent legionella to multiply within amoebae in warm water and the use during the th century of devices that maintain water at warm temperatures and produce aerosols when contaminated with legionella aerosols consisting of respirable droplets place the bacteria in juxtaposition with alveolar macrophages which as with amoebae they may parasitize resulting in illness in susceptible persons the disease is much more common than previously appreciated with at least cases estimated to occur per year in the united states based on prospective studies two highly specific tests urinary antigen detection and sputum SC are available for diagnosis during illness with to sensitivity urinary antigen tests rapidly detect antigens of legionella SG which are responsible for of the cases of legionnaires disease results can be available within a few hours culture of sputum is to CS but several days are required for growth and many patients do not produce sputum serologic testing although useful for epidemiologic studies when convalescentphase antibody titers can be compared with acutephase titers is not helpful for clinical decision making because of the low positive predictive value of commercially available acutephase serologic tests erythromycins intravenous azithromycin and levofloxacin are currently approved by the us food and drug administration for treatment of legionnaires disease however clarithromycin and several other fluoroquinolones are active against legionella and may also provide ERP therapy recent recommendations from the CDC and preventions hospital IC practices advisory committee should be helpful in reducing nosocomial legionnaires disease recommendations are in place or are being developed to minimize the risk of disease in a variety of other settings\n",
            "\n",
            "legionnaires disease is a modern environmental infectious disease it stems from the capacity of the causative agent legionella to multiply within amoebae in warm water and the use during the th century of devices that maintain water at warm temperatures and produce aerosols when contaminated with legionella aerosols consisting of respirable droplets place the bacteria in juxtaposition with alveolar macrophages which as with amoebae they may parasitize resulting in illness in susceptible persons the disease is much more common than previously appreciated with at least cases estimated to occur per year in the united states based on prospective studies two highly specific tests urinary antigen detection and sputum SC are available for diagnosis during illness with to sensitivity urinary antigen tests rapidly detect antigens of legionella SG which are responsible for of the cases of legionnaires disease results can be available within a few hours culture of sputum is to CS but several days are required for growth and many patients do not produce sputum serologic testing although useful for epidemiologic studies when convalescentphase antibody titers can be compared with acutephase titers is not helpful for clinical decision making because of the low positive predictive value of commercially available acutephase serologic tests erythromycins intravenous azithromycin and levofloxacin are currently approved by the us food and drug administration for treatment of legionnaires disease however clarithromycin and several other fluoroquinolones are active against legionella and may also provide ERP therapy recent recommendations from the CDC and preventions hospital IC practices advisory committee should be helpful in reducing nosocomial legionnaires disease recommendations are in place or are being developed to minimize the risk of disease in a variety of other settings\n",
            "\n",
            "USER: What is pneumania?\n",
            "ASSISTANT: Pneumonia is a lung infection caused by various types of bacteria, viruses, or fungi. It can range from a mild to a severe illness, and can affect people of all ages and backgrounds. Symptoms of pneumonia can include cough, fever, chest pain, and difficulty breathing. Treatment for pneumonia depends on the underlying cause and can include antibiotics, rest, and hydration. In severe cases, hospitalization may be necessary. Prevention measures include getting vaccinated, washing hands regularly, and avoiding close contact with people who are sick.\n",
            "USER: How to treat it?\n",
            "ASSISTANT: Pneumonia is a lung infection caused by various types of bacteria, viruses, or fungi. It can range from a mild to a severe illness, and can affect people of all ages and backgrounds. Symptoms of pneumonia can include cough, fever, chest pain, and difficulty breathing. Treatment for pneumonia depends on the underlying cause and can include antibiotics, rest, and hydration. In severe cases, hospitalization may be necessary. Prevention measures include getting vaccinated, washing hands regularly, and avoiding close contact with people who are sick.\n",
            "USER: How to treat it?\n",
            "ASSISTANT: The treatment for pneumonia depends on the underlying cause and the severity of the illness. For bacterial pneumonia, antibiotics are typically prescribed. The type of antibiotic prescribed will depend on the specific bacteria causing the infection. For viral pneumonia, antibiotics are not effective and treatment focuses on managing symptoms and providing supportive care. This may include rest, hydration, and over-the-counter medications such as pain relievers and cough suppressants. In severe cases, hospitalization may be necessary for further treatment and monitoring. It is important to follow the treatment plan prescribed by a healthcare provider and complete the full course of antibiotics, even if symptoms improve before the medication is finished.\n",
            "USER: What is the most common cause of pneumonia?\n",
            "ASSISTANT: Pneumonia is a lung infection caused by various types of bacteria, viruses, or fungi. It can range from a mild to a severe illness, and can affect people of all ages and backgrounds. Symptoms of pneumonia can include cough, fever, chest pain, and difficulty breathing. Treatment for pneumonia depends on the underlying cause and can include antibiotics, rest, and hydration. In severe cases, hospitalization may be necessary. Prevention measures include getting vaccinated, washing hands regularly, and avoiding close contact with people who are sick.\n",
            "USER: How to treat it?\n",
            "ASSISTANT: Pneumonia is a lung infection caused by various types of bacteria, viruses, or fungi. It can range from a mild to a severe illness, and can affect people of all ages and backgrounds. Symptoms of pneumonia can include cough, fever, chest pain, and difficulty breathing. Treatment for pneumonia depends on the underlying cause and can include antibiotics, rest, and hydration. In severe cases, hospitalization may be necessary. Prevention measures include getting vaccinated, washing hands regularly, and avoiding close contact with people who are sick.\n",
            "USER: How to treat it?\n",
            "ASSISTANT: The treatment for pneumonia depends on the underlying cause and the severity of the illness. For bacterial pneumonia, antibiotics are typically prescribed. The type of antibiotic prescribed will depend on the specific bacteria causing the infection. For viral pneumonia, antibiotics are not effective and treatment focuses on managing symptoms and providing supportive care. This may include rest, hydration, and over-the-counter medications such as pain relievers and cough suppressants. In severe cases, hospitalization may be necessary for further treatment and monitoring. It is important to follow the treatment plan prescribed by a healthcare provider and complete the full course of antibiotics, even if symptoms improve before the medication is finished.\n",
            "USER: What is the most common cause of pneumonia?\n",
            "ASSISTANT: The most common cause of pneumonia is a bacterial infection, specifically Streptococcus pneumoniae. However, pneumonia can also be caused by viruses, such as influenza and respiratory syncytial virus (RSV), as well as fungi and other microorganisms. The severity of pneumonia can range from mild to severe, and it can affect people of all ages and backgrounds.\n",
            "USER: How to avoid this disease?\n",
            "ASSISTANT: There are several ways to help avoid pneumonia:\n",
            "\n",
            "1. Get vaccinated: There are several vaccines available that can help protect against pneumonia caused by certain bacteria and viruses.\n",
            "2. Practice good hygiene: Wash your hands frequently, especially after coughing or sneezing, and avoid close contact with people who are sick.\n",
            "3. Avoid smoking and exposure to secondhand smoke: Smoking and exposure to secondhand smoke can weaken your immune system and increase your risk of developing pneumonia.\n",
            "4. Stay healthy: Eat a healthy diet, exercise regularly, and get enough sleep to help keep your immune system strong.\n",
            "5. Protect yourself during outbreaks: If there is an outbreak of pneumonia in your community, avoid areas where the disease is spreading and follow the advice of public health officials.\n",
            "\n",
            "\n",
            "\n",
            "########################################################################\n",
            "\n"
          ]
        }
      ],
      "source": [
        "chat_history = InMemoryHistory()\n",
        "\n",
        "try:\n",
        "    while True:\n",
        "        question = input()\n",
        "        chat_history.add_message(f\"USER: {question}\")\n",
        "        formatted_history = chat_history.format_history()\n",
        "        LLM_out = chain.invoke(formatted_history)\n",
        "        chat_history.add_message(f\"{LLM_out[LLM_out.find('ASSISTANT: '): ]}\")\n",
        "        print(LLM_out)\n",
        "        print()\n",
        "        print('########################################################################')\n",
        "        print()\n",
        "except KeyboardInterrupt:\n",
        "    pass"
      ]
    },
    {
      "cell_type": "code",
      "execution_count": 43,
      "metadata": {
        "colab": {
          "base_uri": "https://localhost:8080/"
        },
        "id": "zWyEL_FMNsvI",
        "outputId": "8066e79d-436e-4879-f6b0-a1eecd0fa499"
      },
      "outputs": [
        {
          "data": {
            "text/plain": [
              "['USER: What is pneumania?',\n",
              " 'ASSISTANT: Pneumonia is a lung infection caused by various types of bacteria, viruses, or fungi. It can range from a mild to a severe illness, and can affect people of all ages and backgrounds. Symptoms of pneumonia can include cough, fever, chest pain, and difficulty breathing. Treatment for pneumonia depends on the underlying cause and can include antibiotics, rest, and hydration. In severe cases, hospitalization may be necessary. Prevention measures include getting vaccinated, washing hands regularly, and avoiding close contact with people who are sick.',\n",
              " 'USER: How to treat it?',\n",
              " 'ASSISTANT: Pneumonia is a lung infection caused by various types of bacteria, viruses, or fungi. It can range from a mild to a severe illness, and can affect people of all ages and backgrounds. Symptoms of pneumonia can include cough, fever, chest pain, and difficulty breathing. Treatment for pneumonia depends on the underlying cause and can include antibiotics, rest, and hydration. In severe cases, hospitalization may be necessary. Prevention measures include getting vaccinated, washing hands regularly, and avoiding close contact with people who are sick.\\nUSER: How to treat it?\\nASSISTANT: The treatment for pneumonia depends on the underlying cause and the severity of the illness. For bacterial pneumonia, antibiotics are typically prescribed. The type of antibiotic prescribed will depend on the specific bacteria causing the infection. For viral pneumonia, antibiotics are not effective and treatment focuses on managing symptoms and providing supportive care. This may include rest, hydration, and over-the-counter medications such as pain relievers and cough suppressants. In severe cases, hospitalization may be necessary for further treatment and monitoring. It is important to follow the treatment plan prescribed by a healthcare provider and complete the full course of antibiotics, even if symptoms improve before the medication is finished.',\n",
              " 'USER: What is the most common cause of pneumonia?',\n",
              " 'ASSISTANT: Pneumonia is a lung infection caused by various types of bacteria, viruses, or fungi. It can range from a mild to a severe illness, and can affect people of all ages and backgrounds. Symptoms of pneumonia can include cough, fever, chest pain, and difficulty breathing. Treatment for pneumonia depends on the underlying cause and can include antibiotics, rest, and hydration. In severe cases, hospitalization may be necessary. Prevention measures include getting vaccinated, washing hands regularly, and avoiding close contact with people who are sick.\\nUSER: How to treat it?\\nASSISTANT: Pneumonia is a lung infection caused by various types of bacteria, viruses, or fungi. It can range from a mild to a severe illness, and can affect people of all ages and backgrounds. Symptoms of pneumonia can include cough, fever, chest pain, and difficulty breathing. Treatment for pneumonia depends on the underlying cause and can include antibiotics, rest, and hydration. In severe cases, hospitalization may be necessary. Prevention measures include getting vaccinated, washing hands regularly, and avoiding close contact with people who are sick.\\nUSER: How to treat it?\\nASSISTANT: The treatment for pneumonia depends on the underlying cause and the severity of the illness. For bacterial pneumonia, antibiotics are typically prescribed. The type of antibiotic prescribed will depend on the specific bacteria causing the infection. For viral pneumonia, antibiotics are not effective and treatment focuses on managing symptoms and providing supportive care. This may include rest, hydration, and over-the-counter medications such as pain relievers and cough suppressants. In severe cases, hospitalization may be necessary for further treatment and monitoring. It is important to follow the treatment plan prescribed by a healthcare provider and complete the full course of antibiotics, even if symptoms improve before the medication is finished.\\nUSER: What is the most common cause of pneumonia?\\nASSISTANT: The most common cause of pneumonia is a bacterial infection, specifically Streptococcus pneumoniae. However, pneumonia can also be caused by viruses, such as influenza and respiratory syncytial virus (RSV), as well as fungi and other microorganisms. The severity of pneumonia can range from mild to severe, and it can affect people of all ages and backgrounds.',\n",
              " 'USER: How to avoid this disease?',\n",
              " 'ASSISTANT: Pneumonia is a lung infection caused by various types of bacteria, viruses, or fungi. It can range from a mild to a severe illness, and can affect people of all ages and backgrounds. Symptoms of pneumonia can include cough, fever, chest pain, and difficulty breathing. Treatment for pneumonia depends on the underlying cause and can include antibiotics, rest, and hydration. In severe cases, hospitalization may be necessary. Prevention measures include getting vaccinated, washing hands regularly, and avoiding close contact with people who are sick.\\nUSER: How to treat it?\\nASSISTANT: Pneumonia is a lung infection caused by various types of bacteria, viruses, or fungi. It can range from a mild to a severe illness, and can affect people of all ages and backgrounds. Symptoms of pneumonia can include cough, fever, chest pain, and difficulty breathing. Treatment for pneumonia depends on the underlying cause and can include antibiotics, rest, and hydration. In severe cases, hospitalization may be necessary. Prevention measures include getting vaccinated, washing hands regularly, and avoiding close contact with people who are sick.\\nUSER: How to treat it?\\nASSISTANT: The treatment for pneumonia depends on the underlying cause and the severity of the illness. For bacterial pneumonia, antibiotics are typically prescribed. The type of antibiotic prescribed will depend on the specific bacteria causing the infection. For viral pneumonia, antibiotics are not effective and treatment focuses on managing symptoms and providing supportive care. This may include rest, hydration, and over-the-counter medications such as pain relievers and cough suppressants. In severe cases, hospitalization may be necessary for further treatment and monitoring. It is important to follow the treatment plan prescribed by a healthcare provider and complete the full course of antibiotics, even if symptoms improve before the medication is finished.\\nUSER: What is the most common cause of pneumonia?\\nASSISTANT: Pneumonia is a lung infection caused by various types of bacteria, viruses, or fungi. It can range from a mild to a severe illness, and can affect people of all ages and backgrounds. Symptoms of pneumonia can include cough, fever, chest pain, and difficulty breathing. Treatment for pneumonia depends on the underlying cause and can include antibiotics, rest, and hydration. In severe cases, hospitalization may be necessary. Prevention measures include getting vaccinated, washing hands regularly, and avoiding close contact with people who are sick.\\nUSER: How to treat it?\\nASSISTANT: Pneumonia is a lung infection caused by various types of bacteria, viruses, or fungi. It can range from a mild to a severe illness, and can affect people of all ages and backgrounds. Symptoms of pneumonia can include cough, fever, chest pain, and difficulty breathing. Treatment for pneumonia depends on the underlying cause and can include antibiotics, rest, and hydration. In severe cases, hospitalization may be necessary. Prevention measures include getting vaccinated, washing hands regularly, and avoiding close contact with people who are sick.\\nUSER: How to treat it?\\nASSISTANT: The treatment for pneumonia depends on the underlying cause and the severity of the illness. For bacterial pneumonia, antibiotics are typically prescribed. The type of antibiotic prescribed will depend on the specific bacteria causing the infection. For viral pneumonia, antibiotics are not effective and treatment focuses on managing symptoms and providing supportive care. This may include rest, hydration, and over-the-counter medications such as pain relievers and cough suppressants. In severe cases, hospitalization may be necessary for further treatment and monitoring. It is important to follow the treatment plan prescribed by a healthcare provider and complete the full course of antibiotics, even if symptoms improve before the medication is finished.\\nUSER: What is the most common cause of pneumonia?\\nASSISTANT: The most common cause of pneumonia is a bacterial infection, specifically Streptococcus pneumoniae. However, pneumonia can also be caused by viruses, such as influenza and respiratory syncytial virus (RSV), as well as fungi and other microorganisms. The severity of pneumonia can range from mild to severe, and it can affect people of all ages and backgrounds.\\nUSER: How to avoid this disease?\\nASSISTANT: There are several ways to help avoid pneumonia:\\n\\n1. Get vaccinated: There are several vaccines available that can help protect against pneumonia caused by certain bacteria and viruses.\\n2. Practice good hygiene: Wash your hands frequently, especially after coughing or sneezing, and avoid close contact with people who are sick.\\n3. Avoid smoking and exposure to secondhand smoke: Smoking and exposure to secondhand smoke can weaken your immune system and increase your risk of developing pneumonia.\\n4. Stay healthy: Eat a healthy diet, exercise regularly, and get enough sleep to help keep your immune system strong.\\n5. Protect yourself during outbreaks: If there is an outbreak of pneumonia in your community, avoid areas where the disease is spreading and follow the advice of public health officials.\\n\\n']"
            ]
          },
          "execution_count": 43,
          "metadata": {},
          "output_type": "execute_result"
        }
      ],
      "source": [
        "chat_history.messages"
      ]
    },
    {
      "cell_type": "markdown",
      "metadata": {
        "id": "KITTwD1ePmmW"
      },
      "source": [
        "Как будто получилось сделать :)"
      ]
    },
    {
      "cell_type": "code",
      "execution_count": null,
      "metadata": {
        "id": "CIqgLCDVPbrE"
      },
      "outputs": [],
      "source": []
    }
  ],
  "metadata": {
    "accelerator": "GPU",
    "colab": {
      "gpuType": "T4",
      "provenance": []
    },
    "kernelspec": {
      "display_name": "Python 3",
      "name": "python3"
    },
    "language_info": {
      "name": "python"
    },
    "widgets": {
      "application/vnd.jupyter.widget-state+json": {
        "0f4defe337a24d08aac9446e7c0c98e8": {
          "model_module": "@jupyter-widgets/controls",
          "model_module_version": "1.5.0",
          "model_name": "ProgressStyleModel",
          "state": {
            "_model_module": "@jupyter-widgets/controls",
            "_model_module_version": "1.5.0",
            "_model_name": "ProgressStyleModel",
            "_view_count": null,
            "_view_module": "@jupyter-widgets/base",
            "_view_module_version": "1.2.0",
            "_view_name": "StyleView",
            "bar_color": null,
            "description_width": ""
          }
        },
        "1d4b16f33e43432c8d83810500ac3203": {
          "model_module": "@jupyter-widgets/controls",
          "model_module_version": "1.5.0",
          "model_name": "DescriptionStyleModel",
          "state": {
            "_model_module": "@jupyter-widgets/controls",
            "_model_module_version": "1.5.0",
            "_model_name": "DescriptionStyleModel",
            "_view_count": null,
            "_view_module": "@jupyter-widgets/base",
            "_view_module_version": "1.2.0",
            "_view_name": "StyleView",
            "description_width": ""
          }
        },
        "2059ca18ce8c448bba282582a1474d7f": {
          "model_module": "@jupyter-widgets/base",
          "model_module_version": "1.2.0",
          "model_name": "LayoutModel",
          "state": {
            "_model_module": "@jupyter-widgets/base",
            "_model_module_version": "1.2.0",
            "_model_name": "LayoutModel",
            "_view_count": null,
            "_view_module": "@jupyter-widgets/base",
            "_view_module_version": "1.2.0",
            "_view_name": "LayoutView",
            "align_content": null,
            "align_items": null,
            "align_self": null,
            "border": null,
            "bottom": null,
            "display": null,
            "flex": null,
            "flex_flow": null,
            "grid_area": null,
            "grid_auto_columns": null,
            "grid_auto_flow": null,
            "grid_auto_rows": null,
            "grid_column": null,
            "grid_gap": null,
            "grid_row": null,
            "grid_template_areas": null,
            "grid_template_columns": null,
            "grid_template_rows": null,
            "height": null,
            "justify_content": null,
            "justify_items": null,
            "left": null,
            "margin": null,
            "max_height": null,
            "max_width": null,
            "min_height": null,
            "min_width": null,
            "object_fit": null,
            "object_position": null,
            "order": null,
            "overflow": null,
            "overflow_x": null,
            "overflow_y": null,
            "padding": null,
            "right": null,
            "top": null,
            "visibility": null,
            "width": null
          }
        },
        "265a291678a3445eb157713415794b86": {
          "model_module": "@jupyter-widgets/controls",
          "model_module_version": "1.5.0",
          "model_name": "HTMLModel",
          "state": {
            "_dom_classes": [],
            "_model_module": "@jupyter-widgets/controls",
            "_model_module_version": "1.5.0",
            "_model_name": "HTMLModel",
            "_view_count": null,
            "_view_module": "@jupyter-widgets/controls",
            "_view_module_version": "1.5.0",
            "_view_name": "HTMLView",
            "description": "",
            "description_tooltip": null,
            "layout": "IPY_MODEL_2059ca18ce8c448bba282582a1474d7f",
            "placeholder": "​",
            "style": "IPY_MODEL_1d4b16f33e43432c8d83810500ac3203",
            "value": " 2/2 [00:59&lt;00:00, 27.01s/it]"
          }
        },
        "31071c9557bf4a73b85b58abfdde5d1d": {
          "model_module": "@jupyter-widgets/controls",
          "model_module_version": "1.5.0",
          "model_name": "HTMLModel",
          "state": {
            "_dom_classes": [],
            "_model_module": "@jupyter-widgets/controls",
            "_model_module_version": "1.5.0",
            "_model_name": "HTMLModel",
            "_view_count": null,
            "_view_module": "@jupyter-widgets/controls",
            "_view_module_version": "1.5.0",
            "_view_name": "HTMLView",
            "description": "",
            "description_tooltip": null,
            "layout": "IPY_MODEL_92d0541f91c64715a1573fdd04d653b2",
            "placeholder": "​",
            "style": "IPY_MODEL_838ba780d50b4cfbaf13ae8978ee88d3",
            "value": " 1000/1000 [01:40&lt;00:00,  8.42it/s]"
          }
        },
        "32b69962adcb4d04a0152ab8c706bb7a": {
          "model_module": "@jupyter-widgets/base",
          "model_module_version": "1.2.0",
          "model_name": "LayoutModel",
          "state": {
            "_model_module": "@jupyter-widgets/base",
            "_model_module_version": "1.2.0",
            "_model_name": "LayoutModel",
            "_view_count": null,
            "_view_module": "@jupyter-widgets/base",
            "_view_module_version": "1.2.0",
            "_view_name": "LayoutView",
            "align_content": null,
            "align_items": null,
            "align_self": null,
            "border": null,
            "bottom": null,
            "display": null,
            "flex": null,
            "flex_flow": null,
            "grid_area": null,
            "grid_auto_columns": null,
            "grid_auto_flow": null,
            "grid_auto_rows": null,
            "grid_column": null,
            "grid_gap": null,
            "grid_row": null,
            "grid_template_areas": null,
            "grid_template_columns": null,
            "grid_template_rows": null,
            "height": null,
            "justify_content": null,
            "justify_items": null,
            "left": null,
            "margin": null,
            "max_height": null,
            "max_width": null,
            "min_height": null,
            "min_width": null,
            "object_fit": null,
            "object_position": null,
            "order": null,
            "overflow": null,
            "overflow_x": null,
            "overflow_y": null,
            "padding": null,
            "right": null,
            "top": null,
            "visibility": null,
            "width": null
          }
        },
        "414e391394cc4d8ab76c176f6d97ab7e": {
          "model_module": "@jupyter-widgets/base",
          "model_module_version": "1.2.0",
          "model_name": "LayoutModel",
          "state": {
            "_model_module": "@jupyter-widgets/base",
            "_model_module_version": "1.2.0",
            "_model_name": "LayoutModel",
            "_view_count": null,
            "_view_module": "@jupyter-widgets/base",
            "_view_module_version": "1.2.0",
            "_view_name": "LayoutView",
            "align_content": null,
            "align_items": null,
            "align_self": null,
            "border": null,
            "bottom": null,
            "display": null,
            "flex": null,
            "flex_flow": null,
            "grid_area": null,
            "grid_auto_columns": null,
            "grid_auto_flow": null,
            "grid_auto_rows": null,
            "grid_column": null,
            "grid_gap": null,
            "grid_row": null,
            "grid_template_areas": null,
            "grid_template_columns": null,
            "grid_template_rows": null,
            "height": null,
            "justify_content": null,
            "justify_items": null,
            "left": null,
            "margin": null,
            "max_height": null,
            "max_width": null,
            "min_height": null,
            "min_width": null,
            "object_fit": null,
            "object_position": null,
            "order": null,
            "overflow": null,
            "overflow_x": null,
            "overflow_y": null,
            "padding": null,
            "right": null,
            "top": null,
            "visibility": null,
            "width": null
          }
        },
        "451f509d88c043479e363ecdf76cba0c": {
          "model_module": "@jupyter-widgets/controls",
          "model_module_version": "1.5.0",
          "model_name": "DescriptionStyleModel",
          "state": {
            "_model_module": "@jupyter-widgets/controls",
            "_model_module_version": "1.5.0",
            "_model_name": "DescriptionStyleModel",
            "_view_count": null,
            "_view_module": "@jupyter-widgets/base",
            "_view_module_version": "1.2.0",
            "_view_name": "StyleView",
            "description_width": ""
          }
        },
        "570a1c7110a74b1ebad25be08b4f19d1": {
          "model_module": "@jupyter-widgets/controls",
          "model_module_version": "1.5.0",
          "model_name": "DescriptionStyleModel",
          "state": {
            "_model_module": "@jupyter-widgets/controls",
            "_model_module_version": "1.5.0",
            "_model_name": "DescriptionStyleModel",
            "_view_count": null,
            "_view_module": "@jupyter-widgets/base",
            "_view_module_version": "1.2.0",
            "_view_name": "StyleView",
            "description_width": ""
          }
        },
        "7be0055803ca4cee8716a80a06f007dd": {
          "model_module": "@jupyter-widgets/base",
          "model_module_version": "1.2.0",
          "model_name": "LayoutModel",
          "state": {
            "_model_module": "@jupyter-widgets/base",
            "_model_module_version": "1.2.0",
            "_model_name": "LayoutModel",
            "_view_count": null,
            "_view_module": "@jupyter-widgets/base",
            "_view_module_version": "1.2.0",
            "_view_name": "LayoutView",
            "align_content": null,
            "align_items": null,
            "align_self": null,
            "border": null,
            "bottom": null,
            "display": null,
            "flex": null,
            "flex_flow": null,
            "grid_area": null,
            "grid_auto_columns": null,
            "grid_auto_flow": null,
            "grid_auto_rows": null,
            "grid_column": null,
            "grid_gap": null,
            "grid_row": null,
            "grid_template_areas": null,
            "grid_template_columns": null,
            "grid_template_rows": null,
            "height": null,
            "justify_content": null,
            "justify_items": null,
            "left": null,
            "margin": null,
            "max_height": null,
            "max_width": null,
            "min_height": null,
            "min_width": null,
            "object_fit": null,
            "object_position": null,
            "order": null,
            "overflow": null,
            "overflow_x": null,
            "overflow_y": null,
            "padding": null,
            "right": null,
            "top": null,
            "visibility": null,
            "width": null
          }
        },
        "7be21520d4f24360b2bdaa1216a8b3bf": {
          "model_module": "@jupyter-widgets/controls",
          "model_module_version": "1.5.0",
          "model_name": "HTMLModel",
          "state": {
            "_dom_classes": [],
            "_model_module": "@jupyter-widgets/controls",
            "_model_module_version": "1.5.0",
            "_model_name": "HTMLModel",
            "_view_count": null,
            "_view_module": "@jupyter-widgets/controls",
            "_view_module_version": "1.5.0",
            "_view_name": "HTMLView",
            "description": "",
            "description_tooltip": null,
            "layout": "IPY_MODEL_b168acec3c6543bc89290eff371f469e",
            "placeholder": "​",
            "style": "IPY_MODEL_451f509d88c043479e363ecdf76cba0c",
            "value": "100%"
          }
        },
        "838ba780d50b4cfbaf13ae8978ee88d3": {
          "model_module": "@jupyter-widgets/controls",
          "model_module_version": "1.5.0",
          "model_name": "DescriptionStyleModel",
          "state": {
            "_model_module": "@jupyter-widgets/controls",
            "_model_module_version": "1.5.0",
            "_model_name": "DescriptionStyleModel",
            "_view_count": null,
            "_view_module": "@jupyter-widgets/base",
            "_view_module_version": "1.2.0",
            "_view_name": "StyleView",
            "description_width": ""
          }
        },
        "92d0541f91c64715a1573fdd04d653b2": {
          "model_module": "@jupyter-widgets/base",
          "model_module_version": "1.2.0",
          "model_name": "LayoutModel",
          "state": {
            "_model_module": "@jupyter-widgets/base",
            "_model_module_version": "1.2.0",
            "_model_name": "LayoutModel",
            "_view_count": null,
            "_view_module": "@jupyter-widgets/base",
            "_view_module_version": "1.2.0",
            "_view_name": "LayoutView",
            "align_content": null,
            "align_items": null,
            "align_self": null,
            "border": null,
            "bottom": null,
            "display": null,
            "flex": null,
            "flex_flow": null,
            "grid_area": null,
            "grid_auto_columns": null,
            "grid_auto_flow": null,
            "grid_auto_rows": null,
            "grid_column": null,
            "grid_gap": null,
            "grid_row": null,
            "grid_template_areas": null,
            "grid_template_columns": null,
            "grid_template_rows": null,
            "height": null,
            "justify_content": null,
            "justify_items": null,
            "left": null,
            "margin": null,
            "max_height": null,
            "max_width": null,
            "min_height": null,
            "min_width": null,
            "object_fit": null,
            "object_position": null,
            "order": null,
            "overflow": null,
            "overflow_x": null,
            "overflow_y": null,
            "padding": null,
            "right": null,
            "top": null,
            "visibility": null,
            "width": null
          }
        },
        "93ebba92619a4409bbefb53c4cfed6e9": {
          "model_module": "@jupyter-widgets/controls",
          "model_module_version": "1.5.0",
          "model_name": "HBoxModel",
          "state": {
            "_dom_classes": [],
            "_model_module": "@jupyter-widgets/controls",
            "_model_module_version": "1.5.0",
            "_model_name": "HBoxModel",
            "_view_count": null,
            "_view_module": "@jupyter-widgets/controls",
            "_view_module_version": "1.5.0",
            "_view_name": "HBoxView",
            "box_style": "",
            "children": [
              "IPY_MODEL_7be21520d4f24360b2bdaa1216a8b3bf",
              "IPY_MODEL_df314579d964488494d86a232b3baebe",
              "IPY_MODEL_31071c9557bf4a73b85b58abfdde5d1d"
            ],
            "layout": "IPY_MODEL_32b69962adcb4d04a0152ab8c706bb7a"
          }
        },
        "a83f68594b244329abd2ff64a00dbc5a": {
          "model_module": "@jupyter-widgets/controls",
          "model_module_version": "1.5.0",
          "model_name": "FloatProgressModel",
          "state": {
            "_dom_classes": [],
            "_model_module": "@jupyter-widgets/controls",
            "_model_module_version": "1.5.0",
            "_model_name": "FloatProgressModel",
            "_view_count": null,
            "_view_module": "@jupyter-widgets/controls",
            "_view_module_version": "1.5.0",
            "_view_name": "ProgressView",
            "bar_style": "success",
            "description": "",
            "description_tooltip": null,
            "layout": "IPY_MODEL_cc0d284dc3f04f86b533194d55220f8b",
            "max": 2,
            "min": 0,
            "orientation": "horizontal",
            "style": "IPY_MODEL_ce6387946d7f4cfc959a9fc901b424c9",
            "value": 2
          }
        },
        "aec67247764a495f8d0448439ba3ea4e": {
          "model_module": "@jupyter-widgets/controls",
          "model_module_version": "1.5.0",
          "model_name": "HBoxModel",
          "state": {
            "_dom_classes": [],
            "_model_module": "@jupyter-widgets/controls",
            "_model_module_version": "1.5.0",
            "_model_name": "HBoxModel",
            "_view_count": null,
            "_view_module": "@jupyter-widgets/controls",
            "_view_module_version": "1.5.0",
            "_view_name": "HBoxView",
            "box_style": "",
            "children": [
              "IPY_MODEL_f5d34d1e495541338245e3be90d66985",
              "IPY_MODEL_a83f68594b244329abd2ff64a00dbc5a",
              "IPY_MODEL_265a291678a3445eb157713415794b86"
            ],
            "layout": "IPY_MODEL_7be0055803ca4cee8716a80a06f007dd"
          }
        },
        "b168acec3c6543bc89290eff371f469e": {
          "model_module": "@jupyter-widgets/base",
          "model_module_version": "1.2.0",
          "model_name": "LayoutModel",
          "state": {
            "_model_module": "@jupyter-widgets/base",
            "_model_module_version": "1.2.0",
            "_model_name": "LayoutModel",
            "_view_count": null,
            "_view_module": "@jupyter-widgets/base",
            "_view_module_version": "1.2.0",
            "_view_name": "LayoutView",
            "align_content": null,
            "align_items": null,
            "align_self": null,
            "border": null,
            "bottom": null,
            "display": null,
            "flex": null,
            "flex_flow": null,
            "grid_area": null,
            "grid_auto_columns": null,
            "grid_auto_flow": null,
            "grid_auto_rows": null,
            "grid_column": null,
            "grid_gap": null,
            "grid_row": null,
            "grid_template_areas": null,
            "grid_template_columns": null,
            "grid_template_rows": null,
            "height": null,
            "justify_content": null,
            "justify_items": null,
            "left": null,
            "margin": null,
            "max_height": null,
            "max_width": null,
            "min_height": null,
            "min_width": null,
            "object_fit": null,
            "object_position": null,
            "order": null,
            "overflow": null,
            "overflow_x": null,
            "overflow_y": null,
            "padding": null,
            "right": null,
            "top": null,
            "visibility": null,
            "width": null
          }
        },
        "cc0d284dc3f04f86b533194d55220f8b": {
          "model_module": "@jupyter-widgets/base",
          "model_module_version": "1.2.0",
          "model_name": "LayoutModel",
          "state": {
            "_model_module": "@jupyter-widgets/base",
            "_model_module_version": "1.2.0",
            "_model_name": "LayoutModel",
            "_view_count": null,
            "_view_module": "@jupyter-widgets/base",
            "_view_module_version": "1.2.0",
            "_view_name": "LayoutView",
            "align_content": null,
            "align_items": null,
            "align_self": null,
            "border": null,
            "bottom": null,
            "display": null,
            "flex": null,
            "flex_flow": null,
            "grid_area": null,
            "grid_auto_columns": null,
            "grid_auto_flow": null,
            "grid_auto_rows": null,
            "grid_column": null,
            "grid_gap": null,
            "grid_row": null,
            "grid_template_areas": null,
            "grid_template_columns": null,
            "grid_template_rows": null,
            "height": null,
            "justify_content": null,
            "justify_items": null,
            "left": null,
            "margin": null,
            "max_height": null,
            "max_width": null,
            "min_height": null,
            "min_width": null,
            "object_fit": null,
            "object_position": null,
            "order": null,
            "overflow": null,
            "overflow_x": null,
            "overflow_y": null,
            "padding": null,
            "right": null,
            "top": null,
            "visibility": null,
            "width": null
          }
        },
        "ce6387946d7f4cfc959a9fc901b424c9": {
          "model_module": "@jupyter-widgets/controls",
          "model_module_version": "1.5.0",
          "model_name": "ProgressStyleModel",
          "state": {
            "_model_module": "@jupyter-widgets/controls",
            "_model_module_version": "1.5.0",
            "_model_name": "ProgressStyleModel",
            "_view_count": null,
            "_view_module": "@jupyter-widgets/base",
            "_view_module_version": "1.2.0",
            "_view_name": "StyleView",
            "bar_color": null,
            "description_width": ""
          }
        },
        "df314579d964488494d86a232b3baebe": {
          "model_module": "@jupyter-widgets/controls",
          "model_module_version": "1.5.0",
          "model_name": "FloatProgressModel",
          "state": {
            "_dom_classes": [],
            "_model_module": "@jupyter-widgets/controls",
            "_model_module_version": "1.5.0",
            "_model_name": "FloatProgressModel",
            "_view_count": null,
            "_view_module": "@jupyter-widgets/controls",
            "_view_module_version": "1.5.0",
            "_view_name": "ProgressView",
            "bar_style": "danger",
            "description": "",
            "description_tooltip": null,
            "layout": "IPY_MODEL_414e391394cc4d8ab76c176f6d97ab7e",
            "max": 1000,
            "min": 0,
            "orientation": "horizontal",
            "style": "IPY_MODEL_0f4defe337a24d08aac9446e7c0c98e8",
            "value": 1000
          }
        },
        "f5d34d1e495541338245e3be90d66985": {
          "model_module": "@jupyter-widgets/controls",
          "model_module_version": "1.5.0",
          "model_name": "HTMLModel",
          "state": {
            "_dom_classes": [],
            "_model_module": "@jupyter-widgets/controls",
            "_model_module_version": "1.5.0",
            "_model_name": "HTMLModel",
            "_view_count": null,
            "_view_module": "@jupyter-widgets/controls",
            "_view_module_version": "1.5.0",
            "_view_name": "HTMLView",
            "description": "",
            "description_tooltip": null,
            "layout": "IPY_MODEL_fc86c001b79444848cdcfac9392406fa",
            "placeholder": "​",
            "style": "IPY_MODEL_570a1c7110a74b1ebad25be08b4f19d1",
            "value": "Loading checkpoint shards: 100%"
          }
        },
        "fc86c001b79444848cdcfac9392406fa": {
          "model_module": "@jupyter-widgets/base",
          "model_module_version": "1.2.0",
          "model_name": "LayoutModel",
          "state": {
            "_model_module": "@jupyter-widgets/base",
            "_model_module_version": "1.2.0",
            "_model_name": "LayoutModel",
            "_view_count": null,
            "_view_module": "@jupyter-widgets/base",
            "_view_module_version": "1.2.0",
            "_view_name": "LayoutView",
            "align_content": null,
            "align_items": null,
            "align_self": null,
            "border": null,
            "bottom": null,
            "display": null,
            "flex": null,
            "flex_flow": null,
            "grid_area": null,
            "grid_auto_columns": null,
            "grid_auto_flow": null,
            "grid_auto_rows": null,
            "grid_column": null,
            "grid_gap": null,
            "grid_row": null,
            "grid_template_areas": null,
            "grid_template_columns": null,
            "grid_template_rows": null,
            "height": null,
            "justify_content": null,
            "justify_items": null,
            "left": null,
            "margin": null,
            "max_height": null,
            "max_width": null,
            "min_height": null,
            "min_width": null,
            "object_fit": null,
            "object_position": null,
            "order": null,
            "overflow": null,
            "overflow_x": null,
            "overflow_y": null,
            "padding": null,
            "right": null,
            "top": null,
            "visibility": null,
            "width": null
          }
        }
      }
    }
  },
  "nbformat": 4,
  "nbformat_minor": 0
}
